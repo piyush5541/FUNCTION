{
  "nbformat": 4,
  "nbformat_minor": 0,
  "metadata": {
    "colab": {
      "provenance": []
    },
    "kernelspec": {
      "name": "python3",
      "display_name": "Python 3"
    },
    "language_info": {
      "name": "python"
    }
  },
  "cells": [
    {
      "cell_type": "code",
      "source": [
        "# what is object-oriented programming(OOPS)?\n",
        "- It's a programing paradigm that organizes software design around objects, which encapsulate both data and the code that operates on that data. This approch aims to make code more modular, resuable, and easier to maintain.\n",
        "\n",
        "# what is a class in OOPS?\n",
        "- A class is a blueprint or a template for creating objects. It defines the attributes (data) and methods (functions) that objects of that class will have.\n",
        "\n",
        "# what is an object in OOPS?\n",
        "- An object is an instance of a class. It's the actual, concrete entity created based on the blueprint provided by the class. If a class is the cookie cutter, an object is a specific cookie made with that cutter.\n",
        "\n",
        "# what is difference between abstraction and encapsulation?\n",
        "- Abstraction: Focuses on hiding complex implementation details and showing only the essential features of an object. It's about dealing with the \"what\" rather than the \"how.\" Think of using a remote control – you use buttons (abstracted interface) without needing to know the intricate circuitry inside.\n",
        "Encapsulation: Bundles data (attributes) and the methods (functions) that operate on the data within a single unit (a class). It restricts direct access to the data and prevents accidental modification. This is like a protective capsule around the data.\n",
        "\n",
        "# what are dunder method in python?\n",
        "- Dunder methods are special methods in Python that have double underscores at the beginning and end of their names, like __init__ or __str__. They are also known as \"magic methods.\"\n",
        "\n",
        "# explain the concept of inheritance in oop.\n",
        "- Inheritance is a fundamental principle in OOP that allows a new class (called the subclass or derived class) to inherit properties and behaviors (attributes and methods) from an existing class (called the superclass or base class).\n",
        "\n",
        "# what is polymorphism in oop?\n",
        "- Polymorphism means \"many forms.\" In OOP, it refers to the ability of objects of different classes to respond to the same method call in their own way. This means you can use a single interface (method name) to perform different actions based on the type of object you are working with.\n",
        "\n",
        "# how is encapsulation achieved in python?\n",
        "- Encapsulation in Python is achieved through the use of access modifiers like public, private, and protected.\n",
        "\n",
        "# what is a constructor in python?\n",
        "- While Python doesn't have a keyword explicitly called \"constructor\" like some other languages, the concept is represented by the special dunder method __init__.\n",
        "\n",
        "# what are class and static methods in python?\n",
        "- class method>> bound to the class and not to a particular instance of the class access/modify and attributed associated to the class.\n",
        "  static method>> bound to the class and not to a particular instance of the class.\n",
        "\n",
        "# what is method overloading in oops?\n",
        "- python does'nt support true method overloading.\n",
        "  method overloading >> student method is taking different forms the last methods overloads the previous ones in the same class.\n",
        "\n",
        "# what is method overriding in oop?\n",
        "- method overriding >> method in parent class and child class with same signature , the child class method will be executed.\n",
        "\n",
        "# what is a property decorator in python?\n",
        "- property decorator >> can allow method to be accessed as attributes.\n",
        "\n",
        "# why is polymorphism important in python?\n",
        "- Polymorphism is important in Python (and other object-oriented languages) because it contributes to writing flexible, reusable, and maintainable code.\n",
        "\n",
        "# what is an abstract class in python?\n",
        "- An abstract class is a template or blueprint for other classes. It defines methods that must be implemented by any class that inherits from it. However, the abstract class itself does not provide the actual implementation code for these methods. Think of it as a set of requirements that any class inheriting from it must fulfill.\n",
        "\n",
        "# what are the advantages of oops?\n",
        "- Modularity for easier troubleshooting: OOP helps break down complex problems into smaller, self-contained units (objects), making it easier to identify and fix issues.\n",
        "- Reuse of code through inheritance: Inheritance allows new classes to inherit properties and behaviors from existing classes, reducing the need to write the same code multiple times.\n",
        "- Flexibility through polymorphism: Polymorphism enables objects of different classes to respond to the same method call in their own way, leading to more flexible and adaptable code.\n",
        "- Effective problem solving: By organizing software design around objects and their interactions, OOP can lead to a more intuitive and effective approach to solving complex problems.\n",
        "\n",
        "# what is the difference between a class variable and an instance variable?\n",
        "- Class Variable: A variable that is shared among all instances of a class. It is defined within the class but outside of any instance method. You can access or modify it using the class name itself.\n",
        "Instance Variable: A variable that is unique to each instance of a class. It is defined within the __init__ method (constructor) and is associated with a specific objec.\n",
        "\n",
        "# what is multiple inheritance in python?\n",
        "- In Python, multiple inheritance is a feature where a class can inherit attributes and methods from more than one parent class. This allows a subclass to combine the functionalities of multiple base classes.\n",
        "\n",
        "# explain the purpose of \"__str__'and'__repr__\" methods in python?\n",
        "- __str__: This method is intended to provide a user-friendly string representation of an object. It's what you see when you use the print() function or str() conversion on an object. The goal is to make it readable and informative for humans.\n",
        "\n",
        "__repr__: This method is intended to provide an unambiguous representation of an object. It should ideally be a string that, if evaluated, would recreate the object. It's primarily used for debugging and development. If __str__ is not defined, Python will use __repr__ as a fallback for the print() function.\n",
        "\n",
        "# what is the significance of the __del__ method in python?\n",
        "- it can delete all the variable and objects from the memory.\n",
        "\n",
        "# what is the difference between @staticmethod and @classmethod in python?\n",
        "- @staticmethod >> bound to the class and not to a particular instance of the class.\n",
        "  @classmethod >> bound to the class and not to a particular instance of the class.\n",
        "\n",
        "# how does polymorphism work in python with inheritance?\n",
        "- Polymorphism in Python works with inheritance by allowing a subclass to provide a specific implementation of a method that is already defined in its superclass. When you call a method on an object, Python determines which version of the method to execute based on the actual type of the object, not the type of the reference.\n",
        "\n",
        "# what is method chaining in python oop?\n",
        "- method chaining is a technique in object-oriented programming where you call multiple methods on an object in a single expression. Each method call returns the object itself, allowing you to chain subsequent method calls. This can make code more concise and readable, especially when performing a series of operations on an object.\n",
        "\n",
        "# what is the purpose of the __call__method in python?\n",
        "-__call__ is special method which is called /invoked when you call instance/ object of the class as a function.\n",
        "\n",
        "\n"
      ],
      "metadata": {
        "id": "nPdfBu0PRDLL"
      },
      "execution_count": null,
      "outputs": []
    },
    {
      "cell_type": "code",
      "source": [
        "\n",
        "                                          # PRATICAL QUESTIONS\n",
        "\n",
        "# create a parent class animal with a method speak()that prints a generic message. create a child class dog that overrides the speak() method to print\"bark!\".\n",
        "\n",
        "class Animal:\n",
        "    def speak(self):\n",
        "        print(\"Generic animal sound\")\n",
        "\n",
        "class Dog(Animal):\n",
        "    def speak(self):\n",
        "        print(\"Bark!\")\n",
        "generic_animal = Animal()\n",
        "generic_animal.speak()\n",
        "my_dog = Dog()\n",
        "my_dog.speak()\n"
      ],
      "metadata": {
        "colab": {
          "base_uri": "https://localhost:8080/"
        },
        "id": "ZDAKALdRdXeL",
        "outputId": "2b645a14-4bae-4f9a-d24e-9a7afc14dc10"
      },
      "execution_count": null,
      "outputs": [
        {
          "output_type": "stream",
          "name": "stdout",
          "text": [
            "Generic animal sound\n",
            "Bark!\n"
          ]
        }
      ]
    },
    {
      "cell_type": "code",
      "source": [
        "# Write a program to create an abstract class shape with a method area(). Derive classes circle and rectangle from it and implement the area() method in both.\n",
        "\n",
        "class Shape(ABC):\n",
        "  @abstractmethod\n",
        "  def calculate_area(self):\n",
        "    pass\n",
        "\n",
        "class Rectangle(Shape):\n",
        "  def calculate_area(self):\n",
        "      return\"Area of rectangle in len*breadth\"\n",
        "\n",
        "class Circle(Shape):\n",
        "  def calculate_area(self):\n",
        "     return \"area of circle is pi r**2\"\n",
        "rect = Rectangle()\n",
        "print(rect.calculate_area())\n",
        "circ = Circle()\n",
        "print(circ.calculate_area())"
      ],
      "metadata": {
        "colab": {
          "base_uri": "https://localhost:8080/"
        },
        "id": "xnLXUQR4tVja",
        "outputId": "7d1789a9-3897-4a5f-96b4-5d7805d989e6"
      },
      "execution_count": null,
      "outputs": [
        {
          "output_type": "stream",
          "name": "stdout",
          "text": [
            "Area of rectangle in len*breadth\n",
            "area of circle is pi r**2\n"
          ]
        }
      ]
    },
    {
      "cell_type": "code",
      "source": [
        "# implement a multi-level inheritance scenario where a class vehicle has an attribute type.derive class car and further derive a class electriccar that adds a battery attribute.\n",
        "\n",
        "class vehicle:\n",
        "  def vehicle_info(self):\n",
        "      print(\"inside the vehicle class\")\n",
        "\n",
        "class car(vehicle):\n",
        "  def car_info(self):\n",
        "      print(\"inside the car class\")\n",
        "\n",
        "class truck(vehicle):\n",
        "  def truck_info(self,name):\n",
        "      print(\"inside truck info\",name)\n",
        "\n",
        "class sportscar(car,vehicle):\n",
        "  def sportscar_info(self):\n",
        "      print(\"inside sports car class\")\n",
        "\n",
        "obj1 = sportscar()\n",
        "obj1.car_info()\n",
        "obj1.vehicle_info()"
      ],
      "metadata": {
        "colab": {
          "base_uri": "https://localhost:8080/"
        },
        "id": "kgAg27UYzwme",
        "outputId": "64618053-e605-4445-d410-53903518b60b"
      },
      "execution_count": null,
      "outputs": [
        {
          "output_type": "stream",
          "name": "stdout",
          "text": [
            "inside the car class\n",
            "inside the vehicle class\n"
          ]
        }
      ]
    },
    {
      "cell_type": "code",
      "source": [
        "# demonstrate polymorphism by creating a base class bird with a method fly(). create two derived classes sparrow and penguin that override the fly() method.\n",
        "\n",
        "class Bird:\n",
        "    def fly(self):\n",
        "        print(\"Birds can fly\")\n",
        "\n",
        "class Sparrow(Bird):\n",
        "    def fly(self):\n",
        "        print(\"Sparrows can fly\")\n",
        "\n",
        "class penguin(Bird):\n",
        "    def fly(self):\n",
        "        print(\"penguin cannot fly\")\n",
        "\n",
        "generic_bird = Bird()\n",
        "sparrow_instance = Sparrow()\n",
        "penguin_instance = penguin()\n",
        "sparrow_instance.fly()\n",
        "penguin_instance.fly()\n",
        "\n"
      ],
      "metadata": {
        "colab": {
          "base_uri": "https://localhost:8080/"
        },
        "id": "4xiWGiIr2M1u",
        "outputId": "14d09f4a-fb29-44aa-bca2-7dc89cdfd286"
      },
      "execution_count": null,
      "outputs": [
        {
          "output_type": "stream",
          "name": "stdout",
          "text": [
            "Sparrows can fly\n",
            "penguin cannot fly\n"
          ]
        }
      ]
    },
    {
      "cell_type": "code",
      "source": [
        "# write a program to demonstrate encapsulation by creating a class bankaccount with private attributes balance and methods to deposit , withdraw, and check balance?\n",
        "\n",
        "\n",
        "class bankaccount:\n",
        "    def __init__(self, initial_balance=0):\n",
        "        self.__balance = initial_balance\n",
        "\n",
        "    def deposit(self, amount):\n",
        "        if amount > 0:\n",
        "            self.__balance += amount\n",
        "            print(f\"Deposited: ${amount}. New balance: ${self.__balance}\")\n",
        "        else:\n",
        "            print(\"Deposit amount must be positive.\")\n",
        "\n",
        "    def withdraw(self, amount):\n",
        "        if amount > 0 and amount <= self.__balance:\n",
        "            self.__balance -= amount\n",
        "            print(f\"Withdrew: ${amount}. New balance: ${self.__balance}\")\n",
        "        elif amount > self.__balance:\n",
        "            print(\"Insufficient funds.\")\n",
        "        else:\n",
        "            print(\"Withdrawal amount must be positive.\")\n",
        "\n",
        "    def check_balance(self):\n",
        "\n",
        "        print(f\"Current balance: ${self.__balance}\")\n",
        "\n",
        "\n",
        "my_account = bankaccount(1000)\n",
        "my_account.check_balance()\n",
        "my_account.deposit(500)\n",
        "my_account.withdraw(200)\n",
        "my_account.check_balance()\n",
        "my_account.withdraw(2000)\n"
      ],
      "metadata": {
        "id": "BWwvcbgU5jEz",
        "colab": {
          "base_uri": "https://localhost:8080/"
        },
        "outputId": "e4e9378a-119e-4d85-8fa9-b4844530ae74"
      },
      "execution_count": null,
      "outputs": [
        {
          "output_type": "stream",
          "name": "stdout",
          "text": [
            "Current balance: $1000\n",
            "Deposited: $500. New balance: $1500\n",
            "Withdrew: $200. New balance: $1300\n",
            "Current balance: $1300\n",
            "Insufficient funds.\n"
          ]
        }
      ]
    },
    {
      "cell_type": "code",
      "source": [
        "# demonstrate runtime polymorphism using a method play()in a base class instrument. derive classes guitar and piano that implement their own version of play().\n",
        "\n",
        "class instrument:\n",
        "  def play(self):\n",
        "      pass\n",
        "\n",
        "class guitar(instrument):\n",
        "  def play(self):\n",
        "      print(\"strumming the guitar!\")\n",
        "\n",
        "class piano(instrument):\n",
        "  def play(self):\n",
        "      print(\"playing the piano keys!\")\n",
        "\n",
        "my_guitar = guitar()\n",
        "my_piano = piano()\n",
        "my_guitar.play()\n",
        "my_piano.play()\n",
        "\n"
      ],
      "metadata": {
        "colab": {
          "base_uri": "https://localhost:8080/"
        },
        "id": "u2bYC8V_Qa_h",
        "outputId": "722f3525-279a-46d4-e83d-cd83a17c8616"
      },
      "execution_count": null,
      "outputs": [
        {
          "output_type": "stream",
          "name": "stdout",
          "text": [
            "strumming the guitar!\n",
            "playing the piano keys!\n"
          ]
        }
      ]
    },
    {
      "cell_type": "code",
      "source": [
        "# create a class mathoperations with a class method add_numbers() to add two numbers and a static method subtract_numbers() to subtract two numbers.\n",
        "\n",
        "class mathoperations:\n",
        "    @classmethod\n",
        "    def add_numbers(cls, a, b):\n",
        "        return a + b\n",
        "\n",
        "    @staticmethod\n",
        "    def subtract_numbers(a, b):\n",
        "        return a - b\n",
        "\n",
        "obj1 = mathoperations()\n",
        "obj1.add_numbers(5, 3)\n",
        "\n",
        "\n",
        "\n"
      ],
      "metadata": {
        "id": "HgAn9MK0TR-n",
        "colab": {
          "base_uri": "https://localhost:8080/"
        },
        "outputId": "4516e7d8-2951-4ae8-d6a1-8e51a8b61d38"
      },
      "execution_count": null,
      "outputs": [
        {
          "output_type": "execute_result",
          "data": {
            "text/plain": [
              "8"
            ]
          },
          "metadata": {},
          "execution_count": 6
        }
      ]
    },
    {
      "cell_type": "code",
      "source": [
        "obj1 = mathoperations()\n",
        "obj1.subtract_numbers(5, 3)"
      ],
      "metadata": {
        "colab": {
          "base_uri": "https://localhost:8080/"
        },
        "id": "CAJDJsJLtE5N",
        "outputId": "93662377-1954-409e-c24f-8e9d244d443f"
      },
      "execution_count": null,
      "outputs": [
        {
          "output_type": "execute_result",
          "data": {
            "text/plain": [
              "2"
            ]
          },
          "metadata": {},
          "execution_count": 7
        }
      ]
    },
    {
      "cell_type": "code",
      "source": [
        "# implement a class person with a class method to count the total number of persons created.\n",
        "\n",
        "class person:\n",
        "    count = 0\n",
        "\n",
        "    def __init__(self):\n",
        "        person.count += 1\n",
        "\n",
        "    @classmethod\n",
        "    def get_count(cls):\n",
        "        return cls.count\n",
        "\n",
        "obj = person()\n",
        "obj.get_count()"
      ],
      "metadata": {
        "colab": {
          "base_uri": "https://localhost:8080/"
        },
        "id": "JsOx7jchtLOc",
        "outputId": "55d28f30-12a2-4142-fde8-646c64bc380f"
      },
      "execution_count": null,
      "outputs": [
        {
          "output_type": "execute_result",
          "data": {
            "text/plain": [
              "1"
            ]
          },
          "metadata": {},
          "execution_count": 9
        }
      ]
    },
    {
      "cell_type": "code",
      "source": [
        "# write a class fraction with attributes numerator and denominator. override the str method to display the fraction as \"numerator/denominator\".\n",
        "\n",
        "class fraction:\n",
        "    def __init__(self, numerator, denominator):\n",
        "        self.numerator = numerator\n",
        "        self.denominator = denominator\n",
        "\n",
        "    def __str__(self):\n",
        "        return f\"{self.numerator}/{self.denominator}\"\n",
        "obj = fraction(2,3)\n",
        "print(obj)"
      ],
      "metadata": {
        "colab": {
          "base_uri": "https://localhost:8080/"
        },
        "id": "Vw-8xa6WvoRP",
        "outputId": "e0510cb0-5b60-4bf9-c892-ec7b058412e0"
      },
      "execution_count": null,
      "outputs": [
        {
          "output_type": "stream",
          "name": "stdout",
          "text": [
            "2/3\n"
          ]
        }
      ]
    },
    {
      "cell_type": "code",
      "source": [
        "# demonstrate operator overloading by creating a class vector and overriding the add method to add two vectors.\n",
        "\n",
        "class vector:\n",
        "    def __init__(self, x, y):\n",
        "        self.x = x\n",
        "        self.y = y\n",
        "\n",
        "    def __add__(self, other):\n",
        "        return vector(self.x + other.x, self.y + other.y)\n",
        "obj = vector(2,3)\n",
        "obj1 = vector(3,4)\n",
        "obj + obj1"
      ],
      "metadata": {
        "colab": {
          "base_uri": "https://localhost:8080/"
        },
        "id": "tkZwUOHCwgNd",
        "outputId": "49299510-564b-41cb-925c-2f2fb905f8a5"
      },
      "execution_count": null,
      "outputs": [
        {
          "output_type": "execute_result",
          "data": {
            "text/plain": [
              "<__main__.vector at 0x7e7619d32a50>"
            ]
          },
          "metadata": {},
          "execution_count": 17
        }
      ]
    },
    {
      "cell_type": "code",
      "source": [
        "# create a class person with attributes name and age.add a method greet() that prints \"hello, my name is {name} and i am {age} years old.\"\n",
        "\n",
        "class  person:\n",
        "    def __init__(self, name, age):\n",
        "        self.name = name\n",
        "        self.age = age\n",
        "\n",
        "    def greet(self):\n",
        "        print(f\"Hello, my name is {self.name} and I am {self.age} years old.\")\n",
        "obj = person(\"john\",25)\n",
        "obj.greet()"
      ],
      "metadata": {
        "colab": {
          "base_uri": "https://localhost:8080/"
        },
        "id": "Q9HR2DPNxQtx",
        "outputId": "5712e6f9-0364-41ad-b108-33018b84e60b"
      },
      "execution_count": null,
      "outputs": [
        {
          "output_type": "stream",
          "name": "stdout",
          "text": [
            "Hello, my name is john and I am 25 years old.\n"
          ]
        }
      ]
    },
    {
      "cell_type": "code",
      "source": [
        "# implement a class student with attributes name and grades. create a method average_grade()\n",
        "\n",
        "class student:\n",
        "    def __init__(self, name, grades):\n",
        "        self.name = name\n",
        "        self.grades = grades\n",
        "\n",
        "    def average_grade(self):\n",
        "        return sum(self.grades) / len(self.grades)\n",
        "obj = student(\"john\",[80, 90,75])\n",
        "obj.average_grade()"
      ],
      "metadata": {
        "colab": {
          "base_uri": "https://localhost:8080/"
        },
        "id": "XinB-dm0ymrC",
        "outputId": "8cb52962-55b1-49ec-9456-f2640982f90d"
      },
      "execution_count": null,
      "outputs": [
        {
          "output_type": "execute_result",
          "data": {
            "text/plain": [
              "81.66666666666667"
            ]
          },
          "metadata": {},
          "execution_count": 20
        }
      ]
    },
    {
      "cell_type": "code",
      "source": [
        "# create a class rectangle with method set_dimensions() to set the dimensions and area() to calculate the area.\n",
        "\n",
        "class rectangle:\n",
        "    def __init__(self, length, width):\n",
        "        self.length = length\n",
        "        self.width = width\n",
        "    def calculate_area(self):\n",
        "        return self.length * self.width\n",
        "obj = rectangle(2,3)\n",
        "obj.calculate_area()"
      ],
      "metadata": {
        "colab": {
          "base_uri": "https://localhost:8080/"
        },
        "id": "TxFmc8EbzZjR",
        "outputId": "8c38d457-55c5-44a7-8417-a5abecbdbe0c"
      },
      "execution_count": null,
      "outputs": [
        {
          "output_type": "execute_result",
          "data": {
            "text/plain": [
              "6"
            ]
          },
          "metadata": {},
          "execution_count": 21
        }
      ]
    },
    {
      "cell_type": "code",
      "source": [
        "# create a class employee with a method calculate_salary() that computes the salary based on hours worked and hourly rate. create a derived class manager that adds a bonus to the slary.\n",
        "\n",
        "class employee:\n",
        "    def __init__(self, name, hours_worked, hourly_rate):\n",
        "        self.name = name\n",
        "        self.hours_worked = hours_worked\n",
        "        self.hourly_rate = hourly_rate\n",
        "\n",
        "    def calculate_salary(self):\n",
        "        return self.hours_worked * self. hourly_rate\n",
        "\n",
        "class manager(employee):\n",
        "    def __init__(self, name,hours_worked,hourly_rate,bonus):\n",
        "        super().__init__(name, hours_worked, hourly_rate)\n",
        "        self.bonus = bonus\n",
        "\n",
        "    def calculate_salary(self):\n",
        "        base_salary = super(). calculate_salary()\n",
        "        return base_salary + self.bonus\n",
        "emp1 = employee(\"john\", 40, 20)\n",
        "emp1.calculate_salary()\n",
        "\n"
      ],
      "metadata": {
        "colab": {
          "base_uri": "https://localhost:8080/"
        },
        "id": "Z86evUoO1UO1",
        "outputId": "545a2392-e9e8-4cad-ff8d-e52fe7468bbb"
      },
      "execution_count": null,
      "outputs": [
        {
          "output_type": "execute_result",
          "data": {
            "text/plain": [
              "800"
            ]
          },
          "metadata": {},
          "execution_count": 23
        }
      ]
    },
    {
      "cell_type": "code",
      "source": [
        "# create a class product with attributes name , price , and quantity.\n",
        "\n",
        "class product:\n",
        "    def __init__(self, name, price, quantity):\n",
        "        self.name = name\n",
        "        self.price = price\n",
        "        self.quantity = quantity\n",
        "\n",
        "    def total_price(self):\n",
        "        return self.price * self.quantity\n",
        "obj = product(\"apple\",2,3)\n",
        "obj.total_price()"
      ],
      "metadata": {
        "colab": {
          "base_uri": "https://localhost:8080/"
        },
        "id": "ok1N4yUwIfl1",
        "outputId": "be55814d-a48d-465c-e2d6-fd5ec32a9df9"
      },
      "execution_count": 1,
      "outputs": [
        {
          "output_type": "execute_result",
          "data": {
            "text/plain": [
              "6"
            ]
          },
          "metadata": {},
          "execution_count": 1
        }
      ]
    },
    {
      "cell_type": "code",
      "source": [
        " # create a class animal with an abstract method sound(). create two derived classes cow and sheep that implement the sound() method.\n",
        "\n",
        "class animal:\n",
        "    def sound(self):\n",
        "        pass\n",
        "\n",
        "class cow(animal):\n",
        "    def sound(self):\n",
        "        return \"moo\"\n",
        "\n",
        "class sheep(animal):\n",
        "    def sound(self):\n",
        "        return \"baa\"\n",
        "obj = cow()\n",
        "obj.sound()\n",
        ""
      ],
      "metadata": {
        "colab": {
          "base_uri": "https://localhost:8080/",
          "height": 36
        },
        "id": "CKxGlYCoJQ62",
        "outputId": "83a8e6b4-35b9-4b08-9d5c-3785623060ca"
      },
      "execution_count": 2,
      "outputs": [
        {
          "output_type": "execute_result",
          "data": {
            "text/plain": [
              "'moo'"
            ],
            "application/vnd.google.colaboratory.intrinsic+json": {
              "type": "string"
            }
          },
          "metadata": {},
          "execution_count": 2
        }
      ]
    },
    {
      "cell_type": "code",
      "source": [
        "# create a class book with attributes tittle, author, and year_published. add a method get_book_info() that returns a formatted string with the book's details.\n",
        "\n",
        "class book:\n",
        "    def __init__(self, title, author, year_published):\n",
        "        self.title = title\n",
        "        self.author = author\n",
        "        self.year_published = year_published\n",
        "\n",
        "    def get_book_info(self):\n",
        "        return f\"Title: {self.title}\\nAuthor: {self.author}\\nYear Published: {self.year_published}\"\n",
        "my_book = book(\"the great gatsby\",\"f. scott fitzgerald\", 1925)\n",
        "print(my_book.get_book_info())"
      ],
      "metadata": {
        "colab": {
          "base_uri": "https://localhost:8080/"
        },
        "id": "kZ-lPA_wNtZ7",
        "outputId": "2c783d33-a803-41cd-e967-bfa4a3492593"
      },
      "execution_count": 3,
      "outputs": [
        {
          "output_type": "stream",
          "name": "stdout",
          "text": [
            "Title: the great gatsby\n",
            "Author: f. scott fitzgerald\n",
            "Year Published: 1925\n"
          ]
        }
      ]
    },
    {
      "cell_type": "code",
      "source": [
        "# create a class house with attributes address and price. create a derived class mansion that adds an attribute number_of_rooms.\n",
        "\n",
        "class house:\n",
        "    def __init__(self, address, price):\n",
        "        self.address = address\n",
        "        self.price = price\n",
        "\n",
        "class mansion(house):\n",
        "    def __init__(self, address,price,number_of_rooms):\n",
        "        super().__init__(address,price)\n",
        "        self.number_of_rooms = number_of_rooms\n",
        "\n",
        "h1 = house(\"123 main st\", 250000)\n",
        "print(h1.address)"
      ],
      "metadata": {
        "colab": {
          "base_uri": "https://localhost:8080/"
        },
        "id": "tA6uPuKWO0FU",
        "outputId": "6d11110f-737c-4814-e541-99986824c942"
      },
      "execution_count": 5,
      "outputs": [
        {
          "output_type": "stream",
          "name": "stdout",
          "text": [
            "123 main st\n"
          ]
        }
      ]
    }
  ]
}