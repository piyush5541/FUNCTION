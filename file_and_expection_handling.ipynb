{
  "nbformat": 4,
  "nbformat_minor": 0,
  "metadata": {
    "colab": {
      "provenance": []
    },
    "kernelspec": {
      "name": "python3",
      "display_name": "Python 3"
    },
    "language_info": {
      "name": "python"
    }
  },
  "cells": [
    {
      "cell_type": "code",
      "source": [
        "# What is the difference between interpreted and compiled languages?\n",
        "- Compiled languages are fully translated into machine code before the program runs. This \"compilation\" process happens once, and then the executable can be run directly and often very quickly. Ex- C, C++ Interpreted languages are translated and executed line by line, or instruction by instruction, by an interpreter during runtime. There's no separate pre-compilation step. This offers flexibility for quick changes and testing, but typically results in slower execution. Ex- Python\n",
        "\n",
        "# What is exception handling in Python?\n",
        "\n",
        "- Exception handling in Python is a mechanism to manage errors that occur during program execution. Instead of crashing, the program can catch these errors using try and except blocks.\n",
        "\n",
        "# What is the purpose of the finally block in exception handling?\n",
        "\n",
        "- The finally block in Python ensures that a specific block of code is always executed, regardless of whether an exception was raised in the try block or not. Its primary purpose is for cleanup operations.\n",
        "\n",
        "# What is logging in Python?\n",
        "\n",
        "-Logging in Python is a built-in module that provides a flexible way to track events and messages during program execution. It allows developers to record information about the program's flow, errors, and important occurrences.\n",
        "\n",
        "# What is the significance of the del method in Python?\n",
        "\n",
        "- he del method in Python is a special method called when an object is about to be garbage collected. Its significance lies in providing a last chance for the object to perform cleanup operations, such as releasing external resources that the object might have held.\n",
        "\n",
        "# What is the difference between import and from ... import in Python?\n",
        "\n",
        "- In Python, import module_name brings the entire module into your namespace. To access items within it, you need to prefix them with the module name (e.g., module_name.function()). On the other hand, from module_name import item_name imports specific items (like functions or classes) directly into your current namespace, allowing you to use them without the module prefix (e.g., function()).\n",
        "\n",
        "# How can you handle multiple exceptions in Python?\n",
        "\n",
        "- You can handle multiple exceptions in Python using multiple except blocks, each specifying a different exception type to catch. You can also catch multiple exceptions in a single except block by enclosing them in a tuple: except (TypeError, ValueError) as e:.\n",
        "\n",
        "# What is the purpose of the with statement when handling files in Python?\n",
        "\n",
        "- The with statement in Python simplifies file handling by automatically managing resources. When used with files, it ensures that the file is properly closed after its operations are complete, even if errors occur within the block.\n",
        "\n",
        "# What is the difference between multithreading and multiprocessing?\n",
        "\n",
        "- In Python, multithreading involves running multiple threads concurrently within a single process, sharing the same memory space. This is useful for I/O-bound tasks to improve responsiveness. Multiprocessing, on the other hand, utilizes multiple separate processes, each with its own memory space. This allows for true parallelism on multi-core processors, making it suitable for CPU-bound tasks.\n",
        "\n",
        "# What are the advantages of using logging in a program?\n",
        "\n",
        "- Firstly, it provides a structured way to record events with different severity levels (e.g., debug, info, warning, error), making it easier to filter and analyze important messages. Secondly, logs can be directed to various outputs like files or network streams, allowing for persistent and centralized monitoring. Thirdly, logging often includes timestamps and contextual information, aiding in debugging and understanding program flow.\n",
        "\n",
        "# What is memory management in Python?\n",
        "\n",
        "- Memory management in Python is largely automatic, handled by the Python Memory Manager. It involves allocating memory for objects when they are created and deallocating it when they are no longer in use. Python uses techniques like reference counting and garbage collection to reclaim memory.\n",
        "\n",
        "# What are the basic steps involved in exception handling in Python?\n",
        "\n",
        "- The basic steps in Python exception handling involve first identifying the code that might raise an error and enclosing it within a try block. Then, you define one or more except blocks to catch specific exception types that might occur. Inside each except block, you write the code to handle that particular exception, preventing program termination. Optionally, a finally block can be included for code that always needs to execute, regardless of whether an exception occurred.\n",
        "\n",
        "# Why is memory management important in Python?\n",
        "\n",
        "- Memory management is crucial in Python to ensure efficient resource utilization and prevent program crashes. Automatic memory management, through techniques like garbage collection, reclaims memory occupied by unused objects, freeing it up for new ones. Without proper memory management, programs could consume excessive memory, leading to slowdowns or even out-of-memory errors.\n",
        "\n",
        "# What is the role of try and except in exception handling?\n",
        "\n",
        "- The try block in Python encloses the code that might potentially raise an exception (an error). If an exception occurs within this try block, the normal flow of execution is interrupted. The except block then comes into play; it defines the code that should be executed if a specific type of exception occurs in the preceding try block. This allows the program to handle errors instead of crashing, providing a mechanism for recovery or controlled termination.\n",
        "\n",
        "# How does Python's garbage collection system work?\n",
        "\n",
        "- Python's garbage collection primarily uses reference counting. Each object keeps track of how many other parts of the program are referencing it. When an object's reference count drops to zero, it's automatically deallocated.\n",
        "\n",
        "# What is the purpose of the else block in exception handling?\n",
        "\n",
        "- The else block in Python's exception handling is executed only if no exceptions were raised in the preceding try block. Its purpose is to contain code that depends on the successful execution of the try block. This helps to clearly separate the code that might raise exceptions from the code that should only run when things go smoothly, improving code readability and logic.\n",
        "\n",
        "# What are the common logging levels in Python\n",
        "\n",
        "- DEBUG (detailed information for debugging), INFO (general information about program execution), WARNING (potential issues that haven't caused errors yet), ERROR (significant problems that prevented some functionality), and CRITICAL (severe errors that may lead to program termination). Choosing the appropriate level helps in filtering and focusing on relevant log messages.\n",
        "\n",
        "# What is the difference between os.fork() and multiprocessing in Python?\n",
        "\n",
        "- os.fork() is a low-level Unix system call that creates a new process by duplicating the existing one, including its memory space. It's fast but can be unsafe with threads. Multiprocessing is a Python module that provides a higher-level, platform-independent way to spawn processes. It typically uses os.fork() on Unix-like systems and a different mechanism on Windows where os.fork() is unavailable.\n",
        "\n",
        "# What is the importance of closing a file in Python?\n",
        "\n",
        "- Closing a file in Python is crucial for several reasons. It ensures that any buffered data waiting to be written to the file is actually flushed to disk, preventing data loss. Secondly, it releases the system resources held by the open file, making them available for other processes or operations. Failing to close files can lead to resource leaks, file corruption, and limitations on the number of files a program can have open simultaneously.\n",
        "\n",
        "# What is the difference between file.read() and file.readline() in Python?\n",
        "\n",
        "- File.read() reads the entire content of a file as a single string. If a size argument is provided, it reads up to that many characters. File.readline() reads a single line from the file, including the newline character at the end (if present). Subsequent calls to readline() will read the next line.\n",
        "\n",
        "# What is the logging module in Python used for?\n",
        "\n",
        "- The logging module in Python provides a flexible and powerful system for tracking events, errors, and general information that occur during program execution. It allows developers to record messages with different severity levels (like debug, info, warning, error) to various destinations, such as files, the console, or network services.\n",
        "\n",
        "# What is the os module in Python used for in file handling?\n",
        "\n",
        "- The os module in Python provides functions for interacting with the operating system, including file system operations. While not directly reading or writing file content, it enables tasks like creating, renaming, and deleting files and directories.\n",
        "\n",
        "# What are the challenges associated with memory management in Python?\n",
        "\n",
        "- The Global Interpreter Lock (GIL) can limit true parallelism for CPU-bound tasks, impacting performance when dealing with large in-memory data. Garbage collection, while helpful, can introduce unpredictable pauses in execution. Managing memory for very large datasets or long-running processes requires careful consideration to avoid excessive memory consumption.\n",
        "\n",
        "# How do you raise an exception manually in Python?\n",
        "\n",
        "- We can manually raise an exception in Python using the raise keyword. Followed by the exception class we want to raise (e.g., ValueError) and optionally an informative message as an argument (e.g., raise ValueError(\"Invalid input\")). This allows us to signal specific error conditions within our code based on our program's logic.\n",
        "\n",
        "# We can manually raise an exception in Python using the raise keyword. Followed by the exception class we want to raise (e.g., ValueError) and optionally an informative message as an argument (e.g., raise ValueError(\"Invalid input\")). This allows us to signal specific error conditions within our code based on our program's logic.\n",
        "\n",
        "- Multithreading is important in applications that perform I/O-bound tasks (like network requests or file operations) because it allows the program to remain responsive. While one thread is waiting for an I/O operation to complete, other threads can continue executing, improving overall efficiency and user experience. This concurrency can prevent the application from freezing or becoming unresponsive during these waiting periods, making it feel faster.\n"
      ],
      "metadata": {
        "id": "07imufCUbr7S"
      },
      "execution_count": null,
      "outputs": []
    },
    {
      "cell_type": "code",
      "source": [
        "#1 How can you open a file for writing in Python and write a string to it?\n",
        "\n",
        "\n",
        "file = open(\"example.txt\", \"w\")\n",
        "file.write(\"Hello, world!\")\n",
        "file.close()"
      ],
      "metadata": {
        "id": "e8-4rbZ6frhA"
      },
      "execution_count": 3,
      "outputs": []
    },
    {
      "cell_type": "code",
      "source": [
        "#2 Write a Python program to read the contents of a file and print each line ?\n",
        "\n",
        "file = open(\"example.txt\", \"r\")\n",
        "for line in file:\n",
        "    print(line)\n",
        "file.close()"
      ],
      "metadata": {
        "colab": {
          "base_uri": "https://localhost:8080/"
        },
        "id": "cRfPb9yxf2WV",
        "outputId": "8deb4814-a826-409f-a93c-0b3071139204"
      },
      "execution_count": 4,
      "outputs": [
        {
          "output_type": "stream",
          "name": "stdout",
          "text": [
            "Hello, world!\n"
          ]
        }
      ]
    },
    {
      "cell_type": "code",
      "source": [
        "#3 How would you handle a case where the file doesn't exist while trying to open it for reading?\n",
        "\n",
        "try:\n",
        "    file = open(\"n_file.txt\", \"r\")\n",
        "    # If the file exists and is opened successfully, you can then process it here.\n",
        "    # For this example, we'll just close it.\n",
        "    file.close()\n",
        "except FileNotFoundError:\n",
        "    print(\"Error: The file 'n_file.txt' was not found.\")"
      ],
      "metadata": {
        "colab": {
          "base_uri": "https://localhost:8080/"
        },
        "id": "yL9iSauQg4Vh",
        "outputId": "16283006-c8b7-4f89-ded4-c8d269cfd3b8"
      },
      "execution_count": 5,
      "outputs": [
        {
          "output_type": "stream",
          "name": "stdout",
          "text": [
            "Error: The file 'n_file.txt' was not found.\n"
          ]
        }
      ]
    },
    {
      "cell_type": "code",
      "source": [
        "#4 Write a Python script that reads from one file and writes its content to another file?\n",
        "\n",
        "file1 = open(\"example.txt\", \"r\")\n",
        "file2 = open(\"file2.txt\", \"w\")\n",
        "for line in file1:\n",
        "    file2.write(line)\n",
        "file1.close()\n",
        "file2.close()"
      ],
      "metadata": {
        "id": "KaX2C-BShELw"
      },
      "execution_count": 6,
      "outputs": []
    },
    {
      "cell_type": "code",
      "source": [
        "#5 How would you catch and handle division by zero error in Python?\n",
        "\n",
        "file = open(\"example.txt\", \"r\")\n",
        "try:\n",
        "    result = 10 / 0\n",
        "except ZeroDivisionError:\n",
        "    print(\"Error: Division by zero\")\n",
        "file.close"
      ],
      "metadata": {
        "colab": {
          "base_uri": "https://localhost:8080/"
        },
        "id": "kl_Bq8X2hKYo",
        "outputId": "cf99a343-70aa-4172-eb5e-210f8ec0d4d4"
      },
      "execution_count": 7,
      "outputs": [
        {
          "output_type": "stream",
          "name": "stdout",
          "text": [
            "Error: Division by zero\n"
          ]
        },
        {
          "output_type": "execute_result",
          "data": {
            "text/plain": [
              "<function TextIOWrapper.close()>"
            ]
          },
          "metadata": {},
          "execution_count": 7
        }
      ]
    },
    {
      "cell_type": "code",
      "source": [
        "#6 Write a Python program that logs an error message to a log file when a division by zero exception occurs?\n",
        "\n",
        "import logging\n",
        "\n",
        "logging.basicConfig(filename='error.log',level=logging.ERROR)\n",
        "file = open(\"example.txt\", \"r\")\n",
        "try:\n",
        "    result = 10 / 0\n",
        "except ZeroDivisionError:\n",
        "    logging.error(\"Error: Division by zero\")\n",
        "file.close()"
      ],
      "metadata": {
        "colab": {
          "base_uri": "https://localhost:8080/"
        },
        "id": "JO0HcBKPhQdT",
        "outputId": "b96d98e6-3f3f-4b7c-87f4-50ae95218ad5"
      },
      "execution_count": 8,
      "outputs": [
        {
          "output_type": "stream",
          "name": "stderr",
          "text": [
            "ERROR:root:Error: Division by zero\n"
          ]
        }
      ]
    },
    {
      "cell_type": "code",
      "source": [
        "#7 How do you log information at different levels (INFO, ERROR, WARNING) in Python using the logging module?\n",
        "\n",
        "import logging\n",
        "\n",
        "logging.basicConfig(level=logging.INFO, format='%(asctime)s - %(levelname)s - %(message)s')\n",
        "\n",
        "logging.debug(\"This is a debug message\")\n",
        "logging.info(\"This is an info message\")\n",
        "logging.warning(\"This is a warning message\")\n",
        "logging.error(\"This is an error message\")\n",
        "logging.critical(\"This is a critical message\")\n"
      ],
      "metadata": {
        "colab": {
          "base_uri": "https://localhost:8080/"
        },
        "id": "gEv8wBHPhXCt",
        "outputId": "aeaaf184-81da-43ed-b585-4530dcac5169"
      },
      "execution_count": 9,
      "outputs": [
        {
          "output_type": "stream",
          "name": "stderr",
          "text": [
            "WARNING:root:This is a warning message\n",
            "ERROR:root:This is an error message\n",
            "CRITICAL:root:This is a critical message\n"
          ]
        }
      ]
    },
    {
      "cell_type": "code",
      "source": [
        "#8 Write a program to handle a file opening error using exception handling?\n",
        "\n",
        "file = open(\"example.txt\", \"r\")\n",
        "try:\n",
        "    file = open(\"non_existent_file.txt\", \"r\")\n",
        "except FileNotFoundError:\n",
        "    print(\"Error: File not found\")\n",
        "file.close()"
      ],
      "metadata": {
        "colab": {
          "base_uri": "https://localhost:8080/"
        },
        "id": "jo9rj1E2hcXK",
        "outputId": "008f32b9-3102-4e6e-9cce-48e84e1290c7"
      },
      "execution_count": 10,
      "outputs": [
        {
          "output_type": "stream",
          "name": "stdout",
          "text": [
            "Error: File not found\n"
          ]
        }
      ]
    },
    {
      "cell_type": "code",
      "source": [
        "#9 How can you read a file line by line and store its content in a list in Python?\n",
        "\n",
        "file = open(\"example.txt\", \"r\")\n",
        "lines = file.readlines()\n",
        "file.close()\n",
        "lines_list = [line.strip() for line in lines]\n",
        "print(lines_list)"
      ],
      "metadata": {
        "colab": {
          "base_uri": "https://localhost:8080/"
        },
        "id": "JWj1KQRihf4H",
        "outputId": "c875f318-d6ca-4577-a34e-7331ec278a87"
      },
      "execution_count": 11,
      "outputs": [
        {
          "output_type": "stream",
          "name": "stdout",
          "text": [
            "['Hello, world!']\n"
          ]
        }
      ]
    },
    {
      "cell_type": "code",
      "source": [
        "#10 How can you append data to an existing file in Python?\n",
        "\n",
        "file = open(\"example.txt\", \"a\")\n",
        "file.write(\"\\nAppended line\")\n",
        "file.close()"
      ],
      "metadata": {
        "id": "YiJxwcn3hkzP"
      },
      "execution_count": 12,
      "outputs": []
    },
    {
      "cell_type": "code",
      "source": [
        "\n",
        "#11  Write a Python program that uses a try-except block to handle an error when attempting to access a dictionary key that doesn't exist?\n",
        "\n",
        "file = open(\"example.txt\", \"r\")\n",
        "try:\n",
        "    my_dict = {\"key\": \"value\"}\n",
        "    value = my_dict[\"non_existent_key\"]\n",
        "except KeyError:\n",
        "    print(\"Error: Key not found in dictionary\")\n",
        "file.close()"
      ],
      "metadata": {
        "colab": {
          "base_uri": "https://localhost:8080/"
        },
        "id": "hZE9GYJ3hpj9",
        "outputId": "40530aca-a6d7-4401-fb5c-71222918060b"
      },
      "execution_count": 13,
      "outputs": [
        {
          "output_type": "stream",
          "name": "stdout",
          "text": [
            "Error: Key not found in dictionary\n"
          ]
        }
      ]
    },
    {
      "cell_type": "code",
      "source": [
        "#12 Write a program that demonstrates using multiple except blocks to handle different types of exceptions?\n",
        "\n",
        "file = open(\"example.txt\", \"r\")\n",
        "try:\n",
        "    result = 10 / 0\n",
        "except ZeroDivisionError:\n",
        "    print(\"Error: Division by zero\")\n",
        "except TypeError:\n",
        "    print(\"Error: Type error\")\n",
        "file.close()"
      ],
      "metadata": {
        "colab": {
          "base_uri": "https://localhost:8080/"
        },
        "id": "--7XgwB5hzQG",
        "outputId": "a7f31129-dacf-4783-95cb-44f7c8d0550c"
      },
      "execution_count": 14,
      "outputs": [
        {
          "output_type": "stream",
          "name": "stdout",
          "text": [
            "Error: Division by zero\n"
          ]
        }
      ]
    },
    {
      "cell_type": "code",
      "source": [
        "#13 How would you check if a file exists before attempting to read it in Python?\n",
        "\n",
        "import os\n",
        "\n",
        "try:\n",
        "    if not os.path.exists(\"example.txt\"):\n",
        "        raise FileNotFoundError(\"File not found\")\n",
        "    file = open(\"example.txt\", \"r\")\n",
        "except FileNotFoundError as e:\n",
        "    print(e)\n",
        "except Exception as e:\n",
        "    print(f\"An error occurred: {e}\")\n",
        "finally:\n",
        "    if 'file' in locals() and not file.closed:\n",
        "        file.close()"
      ],
      "metadata": {
        "id": "kmc6bwhYh3hp"
      },
      "execution_count": 15,
      "outputs": []
    },
    {
      "cell_type": "code",
      "source": [
        "#14 Write a program that uses the logging module to log both informational and error messages?\n",
        "\n",
        "import logging\n",
        "\n",
        "logging.basicConfig(level=logging.INFO)\n",
        "\n",
        "logging.info(\"This is an info message\")\n",
        "logging.error(\"This is an error message\")"
      ],
      "metadata": {
        "colab": {
          "base_uri": "https://localhost:8080/"
        },
        "id": "E8yOquV0h9tY",
        "outputId": "59f8026f-64e7-483e-f1f6-bd1b2685a575"
      },
      "execution_count": 16,
      "outputs": [
        {
          "output_type": "stream",
          "name": "stderr",
          "text": [
            "ERROR:root:This is an error message\n"
          ]
        }
      ]
    },
    {
      "cell_type": "code",
      "source": [
        "#15 Write a Python program that prints the content of a file and handles the case when the file is empty?\n",
        "\n",
        "file = open(\"example.txt\", \"r\")\n",
        "try:\n",
        "    content = file.read()\n",
        "    if not content:\n",
        "        raise ValueError(\"File is empty\")\n",
        "    print(content)\n",
        "except ValueError as e:\n",
        "    print(e)"
      ],
      "metadata": {
        "colab": {
          "base_uri": "https://localhost:8080/"
        },
        "id": "w1uL_2g8iDRr",
        "outputId": "8cab0d07-1678-47d7-dd09-ee0c081904c7"
      },
      "execution_count": 17,
      "outputs": [
        {
          "output_type": "stream",
          "name": "stdout",
          "text": [
            "Hello, world!\n",
            "Appended line\n"
          ]
        }
      ]
    },
    {
      "cell_type": "code",
      "source": [
        "#16 Demonstrate how to use memory profiling to check the memory usage of a small program?\n",
        "\n",
        "from memory_profiler import profile\n",
        "\n",
        "@profile\n",
        "def allocate_memory():\n",
        "    a = [i for i in range(1000000)]\n",
        "    b = [i ** 2 for i in range(1000000)]\n",
        "    return a, b\n",
        "\n",
        "if __name__ == \"__main__\":\n",
        "    allocate_memory()"
      ],
      "metadata": {
        "colab": {
          "base_uri": "https://localhost:8080/",
          "height": 383
        },
        "id": "kLcO7cB-iH7U",
        "outputId": "4bec1109-7dc0-4613-ee5e-5cf9abbefd2d"
      },
      "execution_count": 19,
      "outputs": [
        {
          "output_type": "error",
          "ename": "ModuleNotFoundError",
          "evalue": "No module named 'memory_profiler'",
          "traceback": [
            "\u001b[0;31m---------------------------------------------------------------------------\u001b[0m",
            "\u001b[0;31mModuleNotFoundError\u001b[0m                       Traceback (most recent call last)",
            "\u001b[0;32m<ipython-input-19-fb36cb88a34e>\u001b[0m in \u001b[0;36m<cell line: 0>\u001b[0;34m()\u001b[0m\n\u001b[1;32m      1\u001b[0m \u001b[0;31m#16 Demonstrate how to use memory profiling to check the memory usage of a small program?\u001b[0m\u001b[0;34m\u001b[0m\u001b[0;34m\u001b[0m\u001b[0m\n\u001b[1;32m      2\u001b[0m \u001b[0;34m\u001b[0m\u001b[0m\n\u001b[0;32m----> 3\u001b[0;31m \u001b[0;32mfrom\u001b[0m \u001b[0mmemory_profiler\u001b[0m \u001b[0;32mimport\u001b[0m \u001b[0mprofile\u001b[0m\u001b[0;34m\u001b[0m\u001b[0;34m\u001b[0m\u001b[0m\n\u001b[0m\u001b[1;32m      4\u001b[0m \u001b[0;34m\u001b[0m\u001b[0m\n\u001b[1;32m      5\u001b[0m \u001b[0;34m@\u001b[0m\u001b[0mprofile\u001b[0m\u001b[0;34m\u001b[0m\u001b[0;34m\u001b[0m\u001b[0m\n",
            "\u001b[0;31mModuleNotFoundError\u001b[0m: No module named 'memory_profiler'",
            "",
            "\u001b[0;31m---------------------------------------------------------------------------\u001b[0;32m\nNOTE: If your import is failing due to a missing package, you can\nmanually install dependencies using either !pip or !apt.\n\nTo view examples of installing some common dependencies, click the\n\"Open Examples\" button below.\n\u001b[0;31m---------------------------------------------------------------------------\u001b[0m\n"
          ],
          "errorDetails": {
            "actions": [
              {
                "action": "open_url",
                "actionText": "Open Examples",
                "url": "/notebooks/snippets/importing_libraries.ipynb"
              }
            ]
          }
        }
      ]
    },
    {
      "cell_type": "code",
      "source": [
        "#17 Write a Python program to create and write a list of numbers to a file, one number per line?\n",
        "\n",
        "file = open(\"numbers.txt\", \"w\")\n",
        "numbers = [1, 2, 3, 4, 5]\n",
        "for number in numbers:\n",
        "    file.write(str(number) + \"\\n\")\n",
        "file.close()"
      ],
      "metadata": {
        "id": "_IKRdk7Jibb-"
      },
      "execution_count": 21,
      "outputs": []
    },
    {
      "cell_type": "code",
      "source": [
        "file = open(\"numbers.txt\", \"r\")\n",
        "for line in file:\n",
        "    print(line)\n",
        "file.close()"
      ],
      "metadata": {
        "colab": {
          "base_uri": "https://localhost:8080/"
        },
        "id": "qqhLBQoKilFN",
        "outputId": "f56fae62-2fdc-4c07-f890-2dc49b16102c"
      },
      "execution_count": 22,
      "outputs": [
        {
          "output_type": "stream",
          "name": "stdout",
          "text": [
            "1\n",
            "\n",
            "2\n",
            "\n",
            "3\n",
            "\n",
            "4\n",
            "\n",
            "5\n",
            "\n"
          ]
        }
      ]
    },
    {
      "cell_type": "code",
      "source": [
        "#18 How would you implement a basic logging setup that logs to a file with rotation after 1MB?\n",
        "\n",
        "import logging\n",
        "from logging.handlers import RotatingFileHandler\n",
        "\n",
        "handler = RotatingFileHandler('app.log', maxBytes=1_000_000, backupCount=3)\n",
        "handler.setFormatter(logging.Formatter('%(asctime)s - %(levelname)s - %(message)s'))\n",
        "\n",
        "logger = logging.getLogger('my_logger')\n",
        "logger.setLevel(logging.DEBUG)\n",
        "logger.addHandler(handler)\n",
        "\n",
        "logger.debug(\"Debug message\")\n",
        "logger.info(\"Informational message\")\n",
        "logger.warning(\"Warning message\")\n",
        "logger.error(\"Error message\")\n",
        "logger.critical(\"Critical message\")\n"
      ],
      "metadata": {
        "colab": {
          "base_uri": "https://localhost:8080/"
        },
        "id": "CGiHgrCbiqDS",
        "outputId": "267826c1-4ee2-4aa5-d2be-7550da7ea137"
      },
      "execution_count": 23,
      "outputs": [
        {
          "output_type": "stream",
          "name": "stderr",
          "text": [
            "DEBUG:my_logger:Debug message\n",
            "INFO:my_logger:Informational message\n",
            "WARNING:my_logger:Warning message\n",
            "ERROR:my_logger:Error message\n",
            "CRITICAL:my_logger:Critical message\n"
          ]
        }
      ]
    },
    {
      "cell_type": "code",
      "source": [
        "\n",
        "#19 Write a program that handles both IndexError and KeyError using a try-except block?\n",
        "\n",
        "file = open(\"example.txt\", \"r\")\n",
        "try:\n",
        "    my_list = [1, 2, 3]\n",
        "    value = my_list[3]\n",
        "except IndexError:\n",
        "    print(\"Error: Index out of range\")\n",
        ""
      ],
      "metadata": {
        "colab": {
          "base_uri": "https://localhost:8080/"
        },
        "id": "UaR-T980iwMH",
        "outputId": "ca63178d-1260-418e-ebc3-fa06282ff25e"
      },
      "execution_count": 24,
      "outputs": [
        {
          "output_type": "stream",
          "name": "stdout",
          "text": [
            "Error: Index out of range\n"
          ]
        }
      ]
    },
    {
      "cell_type": "code",
      "source": [
        "#20 How would you open a file and read its contents using a context manager in Python?\n",
        "\n",
        "with open(\"example.txt\", \"r\") as file:\n",
        "    content = file.read()\n",
        "    print(content)"
      ],
      "metadata": {
        "colab": {
          "base_uri": "https://localhost:8080/"
        },
        "id": "N8u8-EFui1tJ",
        "outputId": "191326d0-89f6-4251-faad-9352719ad095"
      },
      "execution_count": 25,
      "outputs": [
        {
          "output_type": "stream",
          "name": "stdout",
          "text": [
            "Hello, world!\n",
            "Appended line\n"
          ]
        }
      ]
    },
    {
      "cell_type": "code",
      "source": [
        "#21 Write a Python program that reads a file and prints the number of occurrences of a specific word?\n",
        "\n",
        "def count_word_in_file(file_path, target_word):\n",
        "    try:\n",
        "        with open(file_path, 'r') as file:\n",
        "            content = file.read().lower()\n",
        "        return content.split().count(target_word.lower())\n",
        "    except FileNotFoundError:\n",
        "        print(f\"Error: The file '{file_path}' was not found.\")\n",
        "        return 0\n",
        "\n",
        "file_path = 'sample.txt'\n",
        "target_word = 'python'\n",
        "count = count_word_in_file(file_path, target_word)\n",
        "print(f\"The word '{target_word}' appears {count} times in the file.\")"
      ],
      "metadata": {
        "colab": {
          "base_uri": "https://localhost:8080/"
        },
        "id": "9CWeoSPLi7fY",
        "outputId": "a4021a5b-502a-41df-aa82-5db40e6769a7"
      },
      "execution_count": 26,
      "outputs": [
        {
          "output_type": "stream",
          "name": "stdout",
          "text": [
            "Error: The file 'sample.txt' was not found.\n",
            "The word 'python' appears 0 times in the file.\n"
          ]
        }
      ]
    },
    {
      "cell_type": "code",
      "source": [
        "\n",
        "#22 How can you check if a file is empty before attempting to read its contents?\n",
        "\n",
        "import os\n",
        "\n",
        "file_path = 'example.txt'\n",
        "\n",
        "if os.path.getsize(file_path) == 0:\n",
        "    print(\"The file is empty.\")\n",
        "else:\n",
        "    with open(file_path, 'r') as file:\n",
        "        content = file.read()\n",
        "        print(\"File content:\", content)"
      ],
      "metadata": {
        "colab": {
          "base_uri": "https://localhost:8080/"
        },
        "id": "kCc5FiKJjBIK",
        "outputId": "31bb28f9-fc5c-4205-8b3a-f5573ad2febe"
      },
      "execution_count": 27,
      "outputs": [
        {
          "output_type": "stream",
          "name": "stdout",
          "text": [
            "File content: Hello, world!\n",
            "Appended line\n"
          ]
        }
      ]
    },
    {
      "cell_type": "code",
      "source": [
        "#23 Write a Python program that writes to a log file when an error occurs during file handling?\n",
        "\n",
        "import logging\n",
        "\n",
        "logging.basicConfig(filename='error.log', level=logging.ERROR)\n",
        "\n",
        "try:\n",
        "    with open('non_existent_file.txt', 'r') as file:\n",
        "        content = file.read()\n",
        "except Exception as e:\n",
        "    logging.error(\"An error occurred: %s\", e)\n"
      ],
      "metadata": {
        "colab": {
          "base_uri": "https://localhost:8080/"
        },
        "id": "Nwv10iTRjH6K",
        "outputId": "b73db696-1976-4c86-c546-9ea98beca090"
      },
      "execution_count": 28,
      "outputs": [
        {
          "output_type": "stream",
          "name": "stderr",
          "text": [
            "ERROR:root:An error occurred: [Errno 2] No such file or directory: 'non_existent_file.txt'\n"
          ]
        }
      ]
    }
  ]
}