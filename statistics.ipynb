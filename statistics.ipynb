{
  "nbformat": 4,
  "nbformat_minor": 0,
  "metadata": {
    "colab": {
      "provenance": []
    },
    "kernelspec": {
      "name": "python3",
      "display_name": "Python 3"
    },
    "language_info": {
      "name": "python"
    }
  },
  "cells": [
    {
      "cell_type": "markdown",
      "source": [
        "1. What is statistics, and why is it important?\n",
        "  - Statistics is the science of collecting, analyzing, interpreting, presenting, and organizing data. It's important because it helps us make sense of complex information, identify trends, and make informed decisions in various fields, from science and business to everyday life.\n",
        "\n",
        "2. What are the two main types of statistics?\n",
        "  - Descriptive Statistics and Inferential Statistics\n",
        "\n",
        "3. What are descriptive statistics?\n",
        "  - Descriptive statistics are used to summarize and describe the main features of a dataset. They help us understand the data through measures like averages (mean, median, mode), spread (range, standard deviation), and how data is distributed\n",
        "\n",
        "4. What is inferential statistics?\n",
        "  - Inferential statistics uses data from a sample to make predictions and draw conclusions about a larger population.\n",
        "\n",
        "5. What is sampling in statistics?\n",
        "  - Sampling in statistics is the method in which we collect the information from a smaller group(sample) which represents a large group(population).\n",
        "\n",
        "6. What are the different types of sampling methods?\n",
        "  - Simple Random Sampling\n",
        "  - Stratified Sampling\n",
        "  - Cluster Sampling\n",
        "  - Systematic Sampling\n",
        "\n",
        "7. What is the difference between random and non-random sampling?\n",
        "  - In random sampling every member of a population has an equal chance of being selected, this minimizing biasness. And in Non-random sampling individuals are selected based on convenience, judgment, or other non-probabilistic criteria.\n",
        "\n",
        "8. Define and give examples of qualitative and quantitative data?\n",
        "  - Qualitative data describes qualities or characteristics and is typically non-numerical. Ex - Color, Gender,etc. Quantitative data consists of numerical values that can be counted or measured.Ex - height of students in classroom.\n",
        "\n",
        "9. What are the different types of data in statistics?\n",
        "  - There are mainly 2 types of data in Statistics Qualitative and Quantitative.\n",
        "\n",
        "10. Explain nominal, ordinal, interval, and ratio levels of measurement?\n",
        "  - Nominal: Data are categorized without any order or ranking. Ex - color, location, etc.\n",
        "  - Ordinal: Data are categorized and can be ranked, but the differences between categories aren't meaningful.Ex - Rank, Grade, etc.\n",
        "  - Interval: Data can be ranked, and the differences between values are meaningful and consistent, but there's no true zero point. Ex - Temperature\n",
        "  - Ratio: Data have all properties of interval data, plus a true zero point, allowing for meaningful ratios. Ex - Height, Weight, Distance, etc.\n",
        "\n",
        "11. What is the measure of central tendency?\n",
        "  - A measure of central tendency is a single value that represents the typical or central point of a dataset. It aims to summarize the entire set of data with one number.\n",
        "\n",
        "12. Define mean, median, and mode?\n",
        "  - Mean: The average of all values in a dataset, calculated by summing all numbers and dividing by the count of numbers.\n",
        "  - Median: The middle value in a dataset when the numbers are arranged in ascending or descending order. If there's an even number of values, then it's the average of the two middle numbers.\n",
        "  - Mode: The value that appears most frequently in a dataset is called mode.\n",
        "\n",
        "13. What is the significance of the measure of central tendency?\n",
        "  - Measures of central tendency are significant because they provide a single, representative value that summarizes an entire dataset. This helps us quickly grasp the typical value, compare different datasets, and make informed decisions by simplifying complex information into a digestible form.\n",
        "\n",
        "14. What is variance, and how is it calculated?\n",
        "  - Variance is a measure of how spread out a set of data points are from their mean. A high variance indicates that data points are widely dispersed, while a low variance means they are clustered closely around the mean.\n",
        "  To calculate variance:\n",
        "\n",
        "  -Find the mean of the data set.\n",
        "  - Subtract the mean from each data point and square the result\n",
        "  - Sum all these squared differences.\n",
        "  - Divide this sum by the number of data points (for population variance) or by the number of data points minus one (for sample variance).\n",
        "\n",
        "15. What is standard deviation, and why is it important?\n",
        "  - Standard deviation is the square root of the variance and measures the typical amount of variation or dispersion of data points around the mean. It's important because it provides a clear, interpretable value in the original units of the data, helping us understand the consistency or volatility of a dataset and identify outliers.\n",
        "\n",
        "16. Define and explain the term range in statistics?\n",
        "  - In statistics, the range is a simple measure of dispersion that represents the spread of a dataset. It is calculated by subtracting the lowest value from the highest value in the data. For example, in the set {10, 20, 5, 30, 15}, the range would be 30−5=25.\n",
        "\n",
        "17. What is the difference between variance and standard deviation?\n",
        "  - Variance is the average of the squared differences from the mean, providing a measure of how spread out data points are, but in squared units. Standard deviation is simply the square root of the variance, bringing the measure back to the original units of the data. This makes standard deviation more interpretable as a typical distance from the mean.\n",
        "\n",
        "18. What is skewness in a dataset?\n",
        "- Skewness is a measure of the asymmetry of a distribution. A distribution is asymmetrical when its left and right side are not mirror images.\n",
        "\n",
        "  A distribution can have right (or positive), left (or negative), or zero skewness. A right-skewed distribution is longer on the right side of its peak, and a left-skewed distribution is longer on the left side of its peak:\n",
        "\n",
        "19. What does it mean if a dataset is positively or negatively skewed?\n",
        "  - Positively skewed (right-skewed): The tail of the distribution is longer on the right side. This means most of the data values are clustered on the lower end.\n",
        "  - Negatively skewed (left-skewed): The tail of the distribution is longer on the left side. This indicates that most data values are concentrated on the higher end.\n",
        "\n",
        "20. Define and explain kurtosis?\n",
        " - Kurtosis measures the \"tailedness\" of a dataset's distribution, indicating how many outliers or extreme values are present compared to a normal distribution. It essentially describes the shape of the distribution's tails whether they have lots of outliers or few outliers.\n",
        "\n",
        "21. What is the purpose of covariance?\n",
        "  - Covariance measures how two variables change together. A positive covariance means they tend to move in the same direction (e.g., both increase or both decrease), while a negative covariance means they tend to move in opposite directions. Its purpose is to indicate the direction of a linear relationship between two variables, but it doesn't tell us the strength of that relationship.\n",
        "\n",
        "22. What does correlation measure in statistics?\n",
        "  - Correlation in statistics measures the strength and direction of a linear relationship between two variables. It helps us understand if, and how strongly, two things tend to change together.\n",
        "\n",
        "23. What is the difference between covariance and correlation?\n",
        "  - Covariance indicates the direction of the linear relationship between two variables.\n",
        "  - Correlation, on the other hand, is a standardized version of covariance that not only shows the direction but also the strength of the linear relationship.\n",
        "\n",
        "24. What are some real-world applications of statistics?\n",
        "  - Healthcare and Medicine: Statistics are vital for clinical trials to assess the effectiveness and safety of new drugs and treatments.\n",
        "  - Business and Finance: Businesses use statistics for market research, sales forecasting, inventory management, quality control in manufacturing, and financial risk assessment.\n",
        "  - Sports Analytics: Professional sports teams use statistics to analyze player performance, develop game strategies, and make informed decisions about team composition and training.\n",
        "  - Weather Forecasting: Meteorologists use statistical models to predict future weather patterns."
      ],
      "metadata": {
        "id": "j0rQ8vvN0jFs"
      }
    },
    {
      "cell_type": "code",
      "source": [
        "#1. How do you calculate the mean, median, and mode of a dataset.\n",
        "\n",
        "import numpy as np\n",
        "data = [2,2,3,6,2,7,7,1]\n",
        "np.mean(data)"
      ],
      "metadata": {
        "colab": {
          "base_uri": "https://localhost:8080/"
        },
        "id": "2HeBLFcgES0M",
        "outputId": "0bf0ca23-9399-4364-e1ed-041c462a74ee"
      },
      "execution_count": 47,
      "outputs": [
        {
          "output_type": "execute_result",
          "data": {
            "text/plain": [
              "np.float64(3.75)"
            ]
          },
          "metadata": {},
          "execution_count": 47
        }
      ]
    },
    {
      "cell_type": "code",
      "source": [
        "np.median(data)"
      ],
      "metadata": {
        "colab": {
          "base_uri": "https://localhost:8080/"
        },
        "id": "xDwDo_imFAUP",
        "outputId": "69f2c3df-f430-42d0-d46c-1236f1032d18"
      },
      "execution_count": null,
      "outputs": [
        {
          "output_type": "execute_result",
          "data": {
            "text/plain": [
              "np.float64(2.5)"
            ]
          },
          "metadata": {},
          "execution_count": 8
        }
      ]
    },
    {
      "cell_type": "code",
      "source": [
        "import statistics\n",
        "statistics.mode(data)"
      ],
      "metadata": {
        "colab": {
          "base_uri": "https://localhost:8080/"
        },
        "id": "ioVSejvmFFUm",
        "outputId": "dc50da86-8648-4d06-d84b-a8da90d905b1"
      },
      "execution_count": 46,
      "outputs": [
        {
          "output_type": "execute_result",
          "data": {
            "text/plain": [
              "4"
            ]
          },
          "metadata": {},
          "execution_count": 46
        }
      ]
    },
    {
      "cell_type": "code",
      "source": [
        "#2. Write a Python program to compute the variance and standard deviation of a dataset.\n",
        "\n",
        "data = [2,2,3,6,2,7,7,1]\n",
        "np.var(data)"
      ],
      "metadata": {
        "colab": {
          "base_uri": "https://localhost:8080/"
        },
        "id": "WIzCe-sNFO3L",
        "outputId": "c5a0a659-0693-4e72-b9e9-f96df4beaa17"
      },
      "execution_count": null,
      "outputs": [
        {
          "output_type": "execute_result",
          "data": {
            "text/plain": [
              "np.float64(5.4375)"
            ]
          },
          "metadata": {},
          "execution_count": 11
        }
      ]
    },
    {
      "cell_type": "code",
      "source": [
        "np.std(data)"
      ],
      "metadata": {
        "colab": {
          "base_uri": "https://localhost:8080/"
        },
        "id": "Mup20Q6GFaYg",
        "outputId": "72902ea1-63d2-4749-dec5-102cd436154a"
      },
      "execution_count": null,
      "outputs": [
        {
          "output_type": "execute_result",
          "data": {
            "text/plain": [
              "np.float64(2.331844763272204)"
            ]
          },
          "metadata": {},
          "execution_count": 12
        }
      ]
    },
    {
      "cell_type": "code",
      "metadata": {
        "colab": {
          "base_uri": "https://localhost:8080/"
        },
        "id": "907eeb21",
        "outputId": "b5031d61-8add-41e0-a321-8b0c614b9778"
      },
      "source": [
        "#3. Create a dataset and classify it into nominal, ordinal, interval, and ratio types.\n",
        "\n",
        "ratio_data = [2.4,6.6,25.2,4.6]\n",
        "print('Ratio Data', ratio_data)\n",
        "\n",
        "nominal_data = [\"Red\", \"Blue\", \"Green\", \"Red\", \"Blue\"]\n",
        "print('Nominal Data' ,nominal_data)\n",
        "\n",
        "ordinal_data = [\"Satisfied\", \"Neutral\", \"Unsatisfied\", \"Satisfied\", \"Neutral\"]\n",
        "print('Ordinal Data', ordinal_data)\n",
        "\n",
        "interval_data = [25, 30, 22, 28, 35]\n",
        "print('Interval Data', interval_data)"
      ],
      "execution_count": null,
      "outputs": [
        {
          "output_type": "stream",
          "name": "stdout",
          "text": [
            "Ratio Data [2.4, 6.6, 25.2, 4.6]\n",
            "Nominal Data ['Red', 'Blue', 'Green', 'Red', 'Blue']\n",
            "Ordinal Data ['Satisfied', 'Neutral', 'Unsatisfied', 'Satisfied', 'Neutral']\n",
            "Interval Data [25, 30, 22, 28, 35]\n"
          ]
        }
      ]
    },
    {
      "cell_type": "code",
      "source": [
        "#4. Implement sampling techniques like random sampling and stratified sampling.\n",
        "\n",
        "import random\n",
        "\n",
        "population = list(range(1, 21))\n",
        "sample_size = 5\n",
        "\n",
        "random_sample = random.sample(population, sample_size)\n",
        "\n",
        "print(f\"Population: {population}\")\n",
        "print(f\"Random Sample (size {sample_size}): {random_sample}\")"
      ],
      "metadata": {
        "colab": {
          "base_uri": "https://localhost:8080/"
        },
        "id": "00saSZFBGkfR",
        "outputId": "0a7e163a-15b5-4cbd-db7d-3dab9c26ac9d"
      },
      "execution_count": null,
      "outputs": [
        {
          "output_type": "stream",
          "name": "stdout",
          "text": [
            "Population: [1, 2, 3, 4, 5, 6, 7, 8, 9, 10, 11, 12, 13, 14, 15, 16, 17, 18, 19, 20]\n",
            "Random Sample (size 5): [19, 20, 9, 6, 8]\n"
          ]
        }
      ]
    },
    {
      "cell_type": "code",
      "source": [
        "#5. Write a Python function to calculate the range of a dataset.\n",
        "\n",
        "data = [2,2,3,6,2,7,7,1]\n",
        "range = max(data) - min(data)\n",
        "print(range)"
      ],
      "metadata": {
        "colab": {
          "base_uri": "https://localhost:8080/"
        },
        "id": "7TYdZpS7HcO6",
        "outputId": "c52f8006-e4e7-4eda-862e-42d2f61eeff2"
      },
      "execution_count": null,
      "outputs": [
        {
          "output_type": "stream",
          "name": "stdout",
          "text": [
            "6\n"
          ]
        }
      ]
    },
    {
      "cell_type": "code",
      "source": [
        "#6. Create a dataset and plot its histogram to visualize skewness.\n",
        "\n",
        "import matplotlib.pyplot as plt\n",
        "\n",
        "data = [2,2,3,6,2,7,7,1]\n",
        "plt.hist(data)\n",
        "plt.show()"
      ],
      "metadata": {
        "colab": {
          "base_uri": "https://localhost:8080/",
          "height": 430
        },
        "id": "xcsUvK2kHe_I",
        "outputId": "76c9af37-5dde-4518-ffd6-6d1f8daaba21"
      },
      "execution_count": null,
      "outputs": [
        {
          "output_type": "display_data",
          "data": {
            "text/plain": [
              "<Figure size 640x480 with 1 Axes>"
            ],
            "image/png": "[encoded data removed]"
          },
          "metadata": {}
        }
      ]
    },
    {
      "cell_type": "code",
      "source": [
        "#7. Calculate skewness and kurtosis of a dataset using Python libraries.\n",
        "\n",
        "from scipy.stats import skew, kurtosis\n",
        "\n",
        "data = [1, 2, 2, 3, 3, 3, 4, 4, 5, 10]\n",
        "\n",
        "skewness = skew(data)\n",
        "skewness"
      ],
      "metadata": {
        "colab": {
          "base_uri": "https://localhost:8080/"
        },
        "id": "ycgTxRWnIGZK",
        "outputId": "9f2f6bac-6075-4a1d-a3ca-42fa4ccd896b"
      },
      "execution_count": 59,
      "outputs": [
        {
          "output_type": "execute_result",
          "data": {
            "text/plain": [
              "np.float64(1.668933072816137)"
            ]
          },
          "metadata": {},
          "execution_count": 59
        }
      ]
    },
    {
      "cell_type": "code",
      "source": [
        "kurtosis = kurtosis(data)\n",
        "kurtosis"
      ],
      "metadata": {
        "colab": {
          "base_uri": "https://localhost:8080/"
        },
        "id": "syQ2xMAyEXDx",
        "outputId": "6c7b0ebf-4ef1-448e-965c-d4f17df46168"
      },
      "execution_count": 60,
      "outputs": [
        {
          "output_type": "execute_result",
          "data": {
            "text/plain": [
              "np.float64(2.238725728502387)"
            ]
          },
          "metadata": {},
          "execution_count": 60
        }
      ]
    },
    {
      "cell_type": "code",
      "source": [
        "#8. Generate a dataset and demonstrate positive and negative skewness.\n",
        "\n",
        "data = np.random.lognormal(mean=0.5, sigma=1, size=500)\n",
        "\n",
        "sns.histplot(data, kde=True, color='skyblue', bins=30)\n",
        "plt.title(f'Positive Skewness (Skew: {skew(data):.2f})')\n",
        "plt.xlabel('Value')\n",
        "plt.ylabel('Frequency')\n",
        "plt.show()"
      ],
      "metadata": {
        "colab": {
          "base_uri": "https://localhost:8080/",
          "height": 472
        },
        "id": "q42HbasODRCG",
        "outputId": "a0801b94-861b-4674-e9e7-78d27fc5aa51"
      },
      "execution_count": 53,
      "outputs": [
        {
          "output_type": "display_data",
          "data": {
            "text/plain": [
              "<Figure size 640x480 with 1 Axes>"
            ],
            "image/png": "[encoded data removed]"
          },
          "metadata": {}
        }
      ]
    },
    {
      "cell_type": "code",
      "source": [
        "data = np.random.lognormal(mean=0.5, sigma=1, size=500)\n",
        "\n",
        "sns.histplot(negative_skew_data, kde=True, color='lightcoral')\n",
        "plt.title(f'Negative Skewness (Skew: {skew(negative_skew_data):.2f})')\n",
        "plt.xlabel('Value')\n",
        "plt.ylabel('Frequency')"
      ],
      "metadata": {
        "colab": {
          "base_uri": "https://localhost:8080/",
          "height": 489
        },
        "id": "Ysg323sbD0UG",
        "outputId": "c6d7d606-d0a6-4cec-add9-09d6e4bfc3db"
      },
      "execution_count": 56,
      "outputs": [
        {
          "output_type": "execute_result",
          "data": {
            "text/plain": [
              "Text(0, 0.5, 'Frequency')"
            ]
          },
          "metadata": {},
          "execution_count": 56
        },
        {
          "output_type": "display_data",
          "data": {
            "text/plain": [
              "<Figure size 640x480 with 1 Axes>"
            ],
            "image/png": "[encoded data removed]"
          },
          "metadata": {}
        }
      ]
    },
    {
      "cell_type": "code",
      "source": [
        "#9.  Write a Python script to calculate covariance between two datasets.\n",
        "\n",
        "data1 = [2,2,3,6,2,7,7,1]\n",
        "data2 = [2,2,3,6,2,7,7,1]\n",
        "np.cov(data1,data2)"
      ],
      "metadata": {
        "colab": {
          "base_uri": "https://localhost:8080/"
        },
        "id": "7YhQ_VfMI_k7",
        "outputId": "b67f6527-7655-4808-859a-9d5e0243c124"
      },
      "execution_count": null,
      "outputs": [
        {
          "output_type": "execute_result",
          "data": {
            "text/plain": [
              "array([[6.21428571, 6.21428571],\n",
              "       [6.21428571, 6.21428571]])"
            ]
          },
          "metadata": {},
          "execution_count": 29
        }
      ]
    },
    {
      "cell_type": "code",
      "source": [
        "#10. Write a Python script to calculate the correlation coefficient between two datasets.\n",
        "\n",
        "data1 = [2,2,3,6,2,7,7,1]\n",
        "data2 = [2,2,3,6,2,7,7,1]\n",
        "np.corrcoef(data1,data2)"
      ],
      "metadata": {
        "colab": {
          "base_uri": "https://localhost:8080/"
        },
        "id": "3_A_wLMdJIok",
        "outputId": "2023e304-9905-4a87-e7db-a1f3f637ca2a"
      },
      "execution_count": null,
      "outputs": [
        {
          "output_type": "execute_result",
          "data": {
            "text/plain": [
              "array([[1., 1.],\n",
              "       [1., 1.]])"
            ]
          },
          "metadata": {},
          "execution_count": 30
        }
      ]
    },
    {
      "cell_type": "code",
      "source": [
        "#11. Create a scatter plot to visualize the relationship between two variables.\n",
        "\n",
        "import matplotlib.pyplot as plt\n",
        "\n",
        "x = [1, 2, 3, 4, 5]\n",
        "y = [2, 4, 6, 8, 10]\n",
        "\n",
        "plt.scatter(x, y)\n",
        "plt.xlabel('X-axis')"
      ],
      "metadata": {
        "colab": {
          "base_uri": "https://localhost:8080/",
          "height": 466
        },
        "id": "s9QaepJIJYdn",
        "outputId": "a9fc9a44-91f7-4ffe-d25d-187c409069ba"
      },
      "execution_count": null,
      "outputs": [
        {
          "output_type": "execute_result",
          "data": {
            "text/plain": [
              "Text(0.5, 0, 'X-axis')"
            ]
          },
          "metadata": {},
          "execution_count": 31
        },
        {
          "output_type": "display_data",
          "data": {
            "text/plain": [
              "<Figure size 640x480 with 1 Axes>"
            ],
            "image/png": "[encoded data removed]"
          },
          "metadata": {}
        }
      ]
    },
    {
      "cell_type": "code",
      "source": [
        "#12. Implement and compare simple random sampling and systematic sampling.\n",
        "\n",
        "population = pd.Series([1, 2, 3, 4, 5, 6, 7, 8, 9, 10])\n",
        "\n",
        "sample_size = 3\n",
        "\n",
        "sample_mean = population.sample(n=sample_size).mean()\n",
        "\n",
        "print(f\"Population: {list(population)}\")\n",
        "print(f\"Sample Size: {sample_size}\")\n",
        "print(f\"Simple Random Sample Mean: {sample_mean:.2f}\")"
      ],
      "metadata": {
        "id": "Efo99il9JnIY",
        "colab": {
          "base_uri": "https://localhost:8080/"
        },
        "outputId": "d424bbe8-8692-4824-e3b6-a1662056860f"
      },
      "execution_count": 50,
      "outputs": [
        {
          "output_type": "stream",
          "name": "stdout",
          "text": [
            "Population: [1, 2, 3, 4, 5, 6, 7, 8, 9, 10]\n",
            "Sample Size: 3\n",
            "Simple Random Sample Mean: 5.33\n"
          ]
        }
      ]
    },
    {
      "cell_type": "code",
      "source": [
        "#13. Calculate the mean, median, and mode of grouped data.\n",
        "\n",
        "data = [4,5,9,5,5,1,4,6,4,2]\n",
        "\n",
        "mn = np.mean(data)\n",
        "mn"
      ],
      "metadata": {
        "id": "_zcrfuZdJuTm",
        "colab": {
          "base_uri": "https://localhost:8080/"
        },
        "outputId": "1382ecb2-7e44-48d6-f89f-3d861e7f0702"
      },
      "execution_count": 41,
      "outputs": [
        {
          "output_type": "execute_result",
          "data": {
            "text/plain": [
              "np.float64(4.5)"
            ]
          },
          "metadata": {},
          "execution_count": 41
        }
      ]
    },
    {
      "cell_type": "code",
      "source": [
        "md = np.median(data)\n",
        "md"
      ],
      "metadata": {
        "colab": {
          "base_uri": "https://localhost:8080/"
        },
        "id": "MbTrSYHmBxUD",
        "outputId": "11290038-4839-4926-863c-dfe2ae1e63d0"
      },
      "execution_count": 42,
      "outputs": [
        {
          "output_type": "execute_result",
          "data": {
            "text/plain": [
              "np.float64(4.5)"
            ]
          },
          "metadata": {},
          "execution_count": 42
        }
      ]
    },
    {
      "cell_type": "code",
      "source": [
        "mo = statistics.mode(data)\n",
        "mo"
      ],
      "metadata": {
        "colab": {
          "base_uri": "https://localhost:8080/"
        },
        "id": "nPvlP8ImB0qw",
        "outputId": "f4057604-934d-4942-f865-f8df3a5731d3"
      },
      "execution_count": 48,
      "outputs": [
        {
          "output_type": "execute_result",
          "data": {
            "text/plain": [
              "2"
            ]
          },
          "metadata": {},
          "execution_count": 48
        }
      ]
    },
    {
      "cell_type": "code",
      "source": [
        "#14. Simulate data using Python and calculate its central tendency and dispersion.\n",
        "\n",
        "data = np.array([10, 12, 11, 13, 10, 15, 9, 8, 100])\n",
        "\n",
        "mean_val = np.mean(data)\n",
        "mean_val"
      ],
      "metadata": {
        "id": "Qc24Z8wVJyKk",
        "colab": {
          "base_uri": "https://localhost:8080/"
        },
        "outputId": "b1db53d8-66e1-4705-9751-04d8080d697d"
      },
      "execution_count": 36,
      "outputs": [
        {
          "output_type": "execute_result",
          "data": {
            "text/plain": [
              "np.float64(20.88888888888889)"
            ]
          },
          "metadata": {},
          "execution_count": 36
        }
      ]
    },
    {
      "cell_type": "code",
      "source": [
        "median_val = np.median(data)\n",
        "median_val"
      ],
      "metadata": {
        "colab": {
          "base_uri": "https://localhost:8080/"
        },
        "id": "3nv6JOkNBNqS",
        "outputId": "c78c707f-0a5d-42f0-ca43-95044e5d09a3"
      },
      "execution_count": 37,
      "outputs": [
        {
          "output_type": "execute_result",
          "data": {
            "text/plain": [
              "np.float64(11.0)"
            ]
          },
          "metadata": {},
          "execution_count": 37
        }
      ]
    },
    {
      "cell_type": "code",
      "source": [
        "std_dev = np.std(data)\n",
        "std_dev"
      ],
      "metadata": {
        "colab": {
          "base_uri": "https://localhost:8080/"
        },
        "id": "Dw8EPTdSBRf5",
        "outputId": "a7550dfc-6d22-44cb-be65-aa197666823d"
      },
      "execution_count": 39,
      "outputs": [
        {
          "output_type": "execute_result",
          "data": {
            "text/plain": [
              "np.float64(28.04141557864583)"
            ]
          },
          "metadata": {},
          "execution_count": 39
        }
      ]
    },
    {
      "cell_type": "code",
      "source": [
        "#15. Use NumPy or pandas to summarize a dataset’s descriptive statistics.\n",
        "\n",
        "data = np.array([10, 12, 11, 13, 10, 15, 9, 8, 100])\n",
        "\n",
        "print(pd.Series(data).describe())"
      ],
      "metadata": {
        "id": "p4sUlpNcJ22B",
        "colab": {
          "base_uri": "https://localhost:8080/"
        },
        "outputId": "6bd2ddfd-4350-4f08-daf0-e67a6ee8ddbc"
      },
      "execution_count": 31,
      "outputs": [
        {
          "output_type": "stream",
          "name": "stdout",
          "text": [
            "count      9.000000\n",
            "mean      20.888889\n",
            "std       29.742413\n",
            "min        8.000000\n",
            "25%       10.000000\n",
            "50%       11.000000\n",
            "75%       13.000000\n",
            "max      100.000000\n",
            "dtype: float64\n"
          ]
        }
      ]
    },
    {
      "cell_type": "code",
      "source": [
        "#16. Plot a boxplot to understand the spread and identify outliers.\n",
        "\n",
        "data = [10, 12, 11, 13, 10, 15, 9, 8, 100]\n",
        "\n",
        "sns.boxplot(y=data)\n",
        "plt.title('Box Plot')\n",
        "plt.show()"
      ],
      "metadata": {
        "id": "XGxvFAstJ8DU",
        "colab": {
          "base_uri": "https://localhost:8080/",
          "height": 433
        },
        "outputId": "cffc5859-f3f6-4067-a2d4-8a6a2d625152"
      },
      "execution_count": 30,
      "outputs": [
        {
          "output_type": "display_data",
          "data": {
            "text/plain": [
              "<Figure size 640x480 with 1 Axes>"
            ],
            "image/png": "[encoded data removed]"
          },
          "metadata": {}
        }
      ]
    },
    {
      "cell_type": "code",
      "source": [
        "#17. Calculate the interquartile range (IQR) of a dataset.\n",
        "\n",
        "data = np.array([1, 3, 5, 6, 7, 8, 9, 10])\n",
        "\n",
        "print(f\"IQR: {np.percentile(data, 75) - np.percentile(data, 25):.2f}\")\n"
      ],
      "metadata": {
        "id": "_-L-Hs98KAp7",
        "colab": {
          "base_uri": "https://localhost:8080/"
        },
        "outputId": "1e8ab2ac-420a-46ce-acb2-713ae3cc7485"
      },
      "execution_count": 28,
      "outputs": [
        {
          "output_type": "stream",
          "name": "stdout",
          "text": [
            "IQR: 3.75\n"
          ]
        }
      ]
    },
    {
      "cell_type": "code",
      "source": [
        "#18. Implement Z-score normalization and explain its significance.\n",
        "\n",
        "data = np.array([10, 20, 30, 40, 50])\n",
        "\n",
        "normalized = (data - np.mean(data)) / np.std(data)\n",
        "\n",
        "print(normalized.round(2))"
      ],
      "metadata": {
        "id": "CwMT-N-GKEbi",
        "colab": {
          "base_uri": "https://localhost:8080/"
        },
        "outputId": "9ec5d584-5223-4bd0-d921-b36a6939df1d"
      },
      "execution_count": 27,
      "outputs": [
        {
          "output_type": "stream",
          "name": "stdout",
          "text": [
            "[-1.41 -0.71  0.    0.71  1.41]\n"
          ]
        }
      ]
    },
    {
      "cell_type": "code",
      "source": [
        "#19. Compare two datasets using their standard deviations.\n",
        "\n",
        "data1 = np.array([10, 11, 10, 9])\n",
        "data2 = np.array([5, 15, 2, 20])\n",
        "\n",
        "print(f\"D1 Std: {np.std(data1, ddof=1)}\")\n",
        "print(f\"D2 Std: {np.std(data2, ddof=1)}\")"
      ],
      "metadata": {
        "id": "63x-Kq41KHlz",
        "colab": {
          "base_uri": "https://localhost:8080/"
        },
        "outputId": "a81f6e67-e92f-411f-acbf-95dc12851cc5"
      },
      "execution_count": 26,
      "outputs": [
        {
          "output_type": "stream",
          "name": "stdout",
          "text": [
            "D1 Std: 0.816496580927726\n",
            "D2 Std: 8.426149773176359\n"
          ]
        }
      ]
    },
    {
      "cell_type": "code",
      "source": [
        "#20. Write a Python program to visualize covariance using a heatmap.\n",
        "\n",
        "df = pd.DataFrame(np.random.rand(10, 3), columns=list('ABC'))\n",
        "\n",
        "sns.heatmap(df.cov(), annot=True, cmap='coolwarm')\n",
        "plt.title('Covariance Matrix')\n",
        "plt.show()"
      ],
      "metadata": {
        "id": "5h-B6RyTKKQe",
        "colab": {
          "base_uri": "https://localhost:8080/",
          "height": 452
        },
        "outputId": "444d8f22-6d6b-407d-b006-1c4e09e06c44"
      },
      "execution_count": 23,
      "outputs": [
        {
          "output_type": "display_data",
          "data": {
            "text/plain": [
              "<Figure size 640x480 with 2 Axes>"
            ],
            "image/png": "[encoded data removed]"
          },
          "metadata": {}
        }
      ]
    },
    {
      "cell_type": "code",
      "source": [
        "#21. Use seaborn to create a correlation matrix for a dataset.\n",
        "\n",
        "sns.heatmap(pd.DataFrame(np.random.rand(10, 3)).corr(), annot=True, cmap='coolwarm')\n",
        "plt.show()"
      ],
      "metadata": {
        "id": "gj5uhartKPAT",
        "colab": {
          "base_uri": "https://localhost:8080/",
          "height": 435
        },
        "outputId": "65445b0b-9927-4edf-bb81-d29bc54b705e"
      },
      "execution_count": 20,
      "outputs": [
        {
          "output_type": "display_data",
          "data": {
            "text/plain": [
              "<Figure size 640x480 with 2 Axes>"
            ],
            "image/png": "[encoded data removed]"
          },
          "metadata": {}
        }
      ]
    },
    {
      "cell_type": "code",
      "source": [
        "#22. Generate a dataset and implement both variance and standard deviation computations.\n",
        "\n",
        "data = np.array([10, 12, 15, 13, 11])\n",
        "\n",
        "np.var(data)"
      ],
      "metadata": {
        "id": "V6Mur5plKR_o",
        "colab": {
          "base_uri": "https://localhost:8080/"
        },
        "outputId": "b3ac41e6-d681-4fe2-939b-62193ba1f873"
      },
      "execution_count": 18,
      "outputs": [
        {
          "output_type": "execute_result",
          "data": {
            "text/plain": [
              "np.float64(2.96)"
            ]
          },
          "metadata": {},
          "execution_count": 18
        }
      ]
    },
    {
      "cell_type": "code",
      "source": [
        "np.std(data)"
      ],
      "metadata": {
        "colab": {
          "base_uri": "https://localhost:8080/"
        },
        "id": "N2tiBinx-Gzo",
        "outputId": "a676dc68-d269-4ca1-d729-c282a121d6fb"
      },
      "execution_count": 17,
      "outputs": [
        {
          "output_type": "execute_result",
          "data": {
            "text/plain": [
              "np.float64(1.7204650534085253)"
            ]
          },
          "metadata": {},
          "execution_count": 17
        }
      ]
    },
    {
      "cell_type": "code",
      "source": [
        "#23. Visualize skewness and kurtosis using Python libraries like matplotlib or seaborn.\n",
        "\n",
        "from scipy.stats import skew, kurtosis\n",
        "\n",
        "data = np.random.exponential(scale=2, size=500)\n",
        "\n",
        "sns.histplot(data, kde=True, color='purple')\n",
        "plt.title(f'Distribution Shape')\n",
        "plt.xlabel('Value')\n",
        "plt.ylabel('Frequency')\n",
        "plt.show()"
      ],
      "metadata": {
        "id": "BodvMnaOKVva",
        "colab": {
          "base_uri": "https://localhost:8080/",
          "height": 472
        },
        "outputId": "9668f1cc-ecb6-4de2-e9a5-3b0f4f1a6dbb"
      },
      "execution_count": 13,
      "outputs": [
        {
          "output_type": "display_data",
          "data": {
            "text/plain": [
              "<Figure size 640x480 with 1 Axes>"
            ],
            "image/png": "[encoded data removed]"
          },
          "metadata": {}
        }
      ]
    },
    {
      "cell_type": "code",
      "source": [
        "#24. Implement the Pearson and Spearman correlation coefficients for a dataset.\n",
        "\n",
        "import numpy as np\n",
        "from scipy.stats import pearsonr, spearmanr\n",
        "\n",
        "x = np.array([1, 2, 3, 4, 5])\n",
        "y = np.array([2, 4, 5, 4, 5])\n",
        "\n",
        "(pearsonr(x, y)[0])"
      ],
      "metadata": {
        "id": "fdIlxR7FKZ4q",
        "colab": {
          "base_uri": "https://localhost:8080/"
        },
        "outputId": "8ea97b75-2be3-4f49-aaef-ecc53fa29f57"
      },
      "execution_count": 8,
      "outputs": [
        {
          "output_type": "execute_result",
          "data": {
            "text/plain": [
              "np.float64(0.7745966692414834)"
            ]
          },
          "metadata": {},
          "execution_count": 8
        }
      ]
    },
    {
      "cell_type": "code",
      "source": [
        "\n",
        "(spearmanr(x, y)[0])"
      ],
      "metadata": {
        "colab": {
          "base_uri": "https://localhost:8080/"
        },
        "id": "1A9R0L9q881k",
        "outputId": "2da6f15f-c766-45d0-d49d-5c7d2d089e36"
      },
      "execution_count": 9,
      "outputs": [
        {
          "output_type": "execute_result",
          "data": {
            "text/plain": [
              "np.float64(0.7378647873726218)"
            ]
          },
          "metadata": {},
          "execution_count": 9
        }
      ]
    }
  ]
}