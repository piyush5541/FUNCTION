{
  "nbformat": 4,
  "nbformat_minor": 0,
  "metadata": {
    "colab": {
      "provenance": []
    },
    "kernelspec": {
      "name": "python3",
      "display_name": "Python 3"
    },
    "language_info": {
      "name": "python"
    }
  },
  "cells": [
    {
      "cell_type": "markdown",
      "source": [
        "1. What is the difference between interpreted and compiled languages?\n",
        "  - Compiled languages are fully translated into machine code before the program runs. This \"compilation\" process happens once, and then the executable can be run directly and often very quickly. Ex- C, C++\n",
        "  Interpreted languages are translated and executed line by line, or instruction by instruction, by an interpreter during runtime. There's no separate pre-compilation step. This offers flexibility for quick changes and testing, but typically results in slower execution. Ex- Python\n",
        "\n",
        "2. What is exception handling in Python?\n",
        "   - Exception handling in Python is a mechanism to manage errors that occur during program execution. Instead of crashing, the program can catch these errors using try and except blocks.\n",
        "\n",
        "3. What is the purpose of the finally block in exception handling?    \n",
        "  - The finally block in Python ensures that a specific block of code is always executed, regardless of whether an exception was raised in the try block or not. Its primary purpose is for cleanup operations.\n",
        "\n",
        "4. What is logging in Python?\n",
        "  - Logging in Python is a built-in module that provides a flexible way to track events and messages during program execution. It allows developers to record information about the program's flow, errors, and important occurrences.\n",
        "\n",
        "5. What is the significance of the __del__ method in Python?\n",
        "  - he __del__ method in Python is a special method called when an object is about to be garbage collected. Its significance lies in providing a last chance for the object to perform cleanup operations, such as releasing external resources that the object might have held.\n",
        "\n",
        "6. What is the difference between import and from ... import in Python?  \n",
        "  - In Python, import module_name brings the entire module into your namespace. To access items within it, you need to prefix them with the module name (e.g., module_name.function()). On the other hand, from module_name import item_name imports specific items (like functions or classes) directly into your current namespace, allowing you to use them without the module prefix (e.g., function()).\n",
        "\n",
        "7. How can you handle multiple exceptions in Python?\n",
        "  - You can handle multiple exceptions in Python using multiple except blocks, each specifying a different exception type to catch. You can also catch multiple exceptions in a single except block by enclosing them in a tuple: except (TypeError, ValueError) as e:.   \n",
        "\n",
        "8. What is the purpose of the with statement when handling files in Python?\n",
        "  - The with statement in Python simplifies file handling by automatically managing resources. When used with files, it ensures that the file is properly closed after its operations are complete, even if errors occur within the block.\n",
        "\n",
        "9. What is the difference between multithreading and multiprocessing?\n",
        "  - In Python, multithreading involves running multiple threads concurrently within a single process, sharing the same memory space. This is useful for I/O-bound tasks to improve responsiveness.\n",
        "  Multiprocessing, on the other hand, utilizes multiple separate processes, each with its own memory space. This allows for true parallelism on multi-core processors, making it suitable for CPU-bound tasks.\n",
        "\n",
        "10. What are the advantages of using logging in a program?\n",
        "  - Firstly, it provides a structured way to record events with different severity levels (e.g., debug, info, warning, error), making it easier to filter and analyze important messages. Secondly, logs can be directed to various outputs like files or network streams, allowing for persistent and centralized monitoring. Thirdly, logging often includes timestamps and contextual information, aiding in debugging and understanding program flow.  \n",
        "\n",
        "11. What is memory management in Python?\n",
        "  - Memory management in Python is largely automatic, handled by the Python Memory Manager. It involves allocating memory for objects when they are created and deallocating it when they are no longer in use. Python uses techniques like reference counting and garbage collection to reclaim memory.\n",
        "\n",
        "12. What are the basic steps involved in exception handling in Python?\n",
        "  - The basic steps in Python exception handling involve first identifying the code that might raise an error and enclosing it within a try block. Then, you define one or more except blocks to catch specific exception types that might occur. Inside each except block, you write the code to handle that particular exception, preventing program termination. Optionally, a finally block can be included for code that always needs to execute, regardless of whether an exception occurred.\n",
        "\n",
        "13. Why is memory management important in Python?\n",
        "  - Memory management is crucial in Python to ensure efficient resource utilization and prevent program crashes. Automatic memory management, through techniques like garbage collection, reclaims memory occupied by unused objects, freeing it up for new ones. Without proper memory management, programs could consume excessive memory, leading to slowdowns or even out-of-memory errors.\n",
        "\n",
        "14. What is the role of try and except in exception handling?\n",
        "  - The try block in Python encloses the code that might potentially raise an exception (an error). If an exception occurs within this try block, the normal flow of execution is interrupted. The except block then comes into play; it defines the code that should be executed if a specific type of exception occurs in the preceding try block. This allows the program to handle errors instead of crashing, providing a mechanism for recovery or controlled termination.\n",
        "\n",
        "15. How does Python's garbage collection system work?\n",
        "  - Python's garbage collection primarily uses reference counting. Each object keeps track of how many other parts of the program are referencing it. When an object's reference count drops to zero, it's automatically deallocated.\n",
        "\n",
        "16. What is the purpose of the else block in exception handling?\n",
        "  - The else block in Python's exception handling is executed only if no exceptions were raised in the preceding try block. Its purpose is to contain code that depends on the successful execution of the try block. This helps to clearly separate the code that might raise exceptions from the code that should only run when things go smoothly, improving code readability and logic.  \n",
        "\n",
        "17. What are the common logging levels in Python?\n",
        "  - DEBUG (detailed information for debugging), INFO (general information about program execution), WARNING (potential issues that haven't caused errors yet), ERROR (significant problems that prevented some functionality), and CRITICAL (severe errors that may lead to program termination). Choosing the appropriate level helps in filtering and focusing on relevant log messages.\n",
        "\n",
        "18. What is the difference between os.fork() and multiprocessing in Python?\n",
        "  - os.fork() is a low-level Unix system call that creates a new process by duplicating the existing one, including its memory space. It's fast but can be unsafe with threads.\n",
        "  Multiprocessing is a Python module that provides a higher-level, platform-independent way to spawn processes. It typically uses os.fork() on Unix-like systems and a different mechanism on Windows where os.fork() is unavailable.\n",
        "\n",
        "19. What is the importance of closing a file in Python?\n",
        "  - Closing a file in Python is crucial for several reasons. It ensures that any buffered data waiting to be written to the file is actually flushed to disk, preventing data loss. Secondly, it releases the system resources held by the open file, making them available for other processes or operations. Failing to close files can lead to resource leaks, file corruption, and limitations on the number of files a program can have open simultaneously.      \n",
        "\n",
        "20. What is the difference between file.read() and file.readline() in Python?\n",
        "  - File.read() reads the entire content of a file as a single string. If a size argument is provided, it reads up to that many characters.\n",
        "  File.readline() reads a single line from the file, including the newline character at the end (if present). Subsequent calls to readline() will read the next line.  \n",
        "\n",
        "21. What is the logging module in Python used for?\n",
        "  - The logging module in Python provides a flexible and powerful system for tracking events, errors, and general information that occur during program execution. It allows developers to record messages with different severity levels (like debug, info, warning, error) to various destinations, such as files, the console, or network services.\n",
        "\n",
        "22. What is the os module in Python used for in file handling?\n",
        "  - The os module in Python provides functions for interacting with the operating system, including file system operations. While not directly reading or writing file content, it enables tasks like creating, renaming, and deleting files and directories.\n",
        "\n",
        "23. What are the challenges associated with memory management in Python?\n",
        "  - The Global Interpreter Lock (GIL) can limit true parallelism for CPU-bound tasks, impacting performance when dealing with large in-memory data. Garbage collection, while helpful, can introduce unpredictable pauses in execution. Managing memory for very large datasets or long-running processes requires careful consideration to avoid excessive memory consumption.\n",
        "\n",
        "24.  How do you raise an exception manually in Python?\n",
        "  - We can manually raise an exception in Python using the raise keyword. Followed by the exception class we want to raise (e.g., ValueError) and optionally an informative message as an argument (e.g., raise ValueError(\"Invalid input\")). This allows us to signal specific error conditions within our code based on our program's logic.   \n",
        "\n",
        "25. Why is it important to use multithreading in certain applications?\n",
        "  - Multithreading is important in applications that perform I/O-bound tasks (like network requests or file operations) because it allows the program to remain responsive. While one thread is waiting for an I/O operation to complete, other threads can continue executing, improving overall efficiency and user experience. This concurrency can prevent the application from freezing or becoming unresponsive during these waiting periods, making it feel faster.  "
      ],
      "metadata": {
        "id": "gB6d4ZGuk2_E"
      }
    },
    {
      "cell_type": "code",
      "source": [
        "#1 How can you open a file for writing in Python and write a string to it?\n",
        "\n",
        "file = open(\"example.txt\", \"w\")\n",
        "file.write(\"Hello, world!\")\n",
        "file.close()"
      ],
      "metadata": {
        "id": "5t2eD-_NrQgp"
      },
      "execution_count": 23,
      "outputs": []
    },
    {
      "cell_type": "code",
      "source": [
        "#2 Write a Python program to read the contents of a file and print each line?\n",
        "\n",
        "file = open(\"example.txt\", \"r\")\n",
        "for line in file:\n",
        "    print(line)\n",
        "file.close()"
      ],
      "metadata": {
        "colab": {
          "base_uri": "https://localhost:8080/"
        },
        "id": "0HSGxiobradu",
        "outputId": "c86933bb-73b5-4c45-8dd4-c96db6c7d6b1"
      },
      "execution_count": 2,
      "outputs": [
        {
          "output_type": "stream",
          "name": "stdout",
          "text": [
            "Hello, world!\n"
          ]
        }
      ]
    },
    {
      "cell_type": "code",
      "source": [
        "#3 How would you handle a case where the file doesn't exist while trying to open it for reading?\n",
        "\n",
        "try:\n",
        "    file = open(\"n_file.txt\", \"r\")\n",
        "    # If the file exists and is opened successfully, you can then process it here.\n",
        "    # For this example, we'll just close it.\n",
        "    file.close()\n",
        "except FileNotFoundError:\n",
        "    print(\"Error: The file 'n_file.txt' was not found.\")"
      ],
      "metadata": {
        "colab": {
          "base_uri": "https://localhost:8080/"
        },
        "id": "y_y_PQZ3rgxf",
        "outputId": "6d6b85ef-619e-4229-d8b9-f8dccaadca01"
      },
      "execution_count": 58,
      "outputs": [
        {
          "output_type": "stream",
          "name": "stdout",
          "text": [
            "Error: The file 'n_file.txt' was not found.\n"
          ]
        }
      ]
    },
    {
      "cell_type": "code",
      "source": [
        "#4 Write a Python script that reads from one file and writes its content to another file?\n",
        "\n",
        "file1 = open(\"example.txt\", \"r\")\n",
        "file2 = open(\"file2.txt\", \"w\")\n",
        "for line in file1:\n",
        "    file2.write(line)\n",
        "file1.close()\n",
        "file2.close()"
      ],
      "metadata": {
        "id": "QLFcjRzPrqmz"
      },
      "execution_count": 5,
      "outputs": []
    },
    {
      "cell_type": "code",
      "source": [
        "#5 How would you catch and handle division by zero error in Python?\n",
        "\n",
        "file = open(\"example.txt\", \"r\")\n",
        "try:\n",
        "    result = 10 / 0\n",
        "except ZeroDivisionError:\n",
        "    print(\"Error: Division by zero\")\n",
        "file.close()"
      ],
      "metadata": {
        "colab": {
          "base_uri": "https://localhost:8080/"
        },
        "id": "vpYwmDPwr-wJ",
        "outputId": "a7710215-dbcb-49b9-d74f-c7b6c0f2f16f"
      },
      "execution_count": 6,
      "outputs": [
        {
          "output_type": "stream",
          "name": "stdout",
          "text": [
            "Error: Division by zero\n"
          ]
        }
      ]
    },
    {
      "cell_type": "code",
      "source": [
        "#6 Write a Python program that logs an error message to a log file when a division by zero exception occurs?\n",
        "\n",
        "import logging\n",
        "\n",
        "logging.basicConfig(filename='error.log',level=logging.ERROR)\n",
        "file = open(\"example.txt\", \"r\")\n",
        "try:\n",
        "    result = 10 / 0\n",
        "except ZeroDivisionError:\n",
        "    logging.error(\"Error: Division by zero\")\n",
        "file.close()"
      ],
      "metadata": {
        "colab": {
          "base_uri": "https://localhost:8080/"
        },
        "id": "02nYcMNGsIOD",
        "outputId": "ed383f89-a610-48d4-de90-b7d5618b2676"
      },
      "execution_count": 8,
      "outputs": [
        {
          "output_type": "stream",
          "name": "stderr",
          "text": [
            "ERROR:root:Error: Division by zero\n"
          ]
        }
      ]
    },
    {
      "cell_type": "code",
      "source": [
        "#7 How do you log information at different levels (INFO, ERROR, WARNING) in Python using the logging module?\n",
        "\n",
        "import logging\n",
        "\n",
        "logging.basicConfig(level=logging.INFO, format='%(asctime)s - %(levelname)s - %(message)s')\n",
        "\n",
        "logging.debug(\"This is a debug message\")\n",
        "logging.info(\"This is an info message\")\n",
        "logging.warning(\"This is a warning message\")\n",
        "logging.error(\"This is an error message\")\n",
        "logging.critical(\"This is a critical message\")\n"
      ],
      "metadata": {
        "colab": {
          "base_uri": "https://localhost:8080/"
        },
        "id": "gMh4w_GEsT-x",
        "outputId": "dfb0be77-307d-4b9a-ebe1-19b0aecc5739"
      },
      "execution_count": 69,
      "outputs": [
        {
          "output_type": "stream",
          "name": "stderr",
          "text": [
            "WARNING:root:This is a warning message\n",
            "ERROR:root:This is an error message\n",
            "CRITICAL:root:This is a critical message\n"
          ]
        }
      ]
    },
    {
      "cell_type": "code",
      "source": [
        "#8 Write a program to handle a file opening error using exception handling?\n",
        "\n",
        "file = open(\"example.txt\", \"r\")\n",
        "try:\n",
        "    file = open(\"non_existent_file.txt\", \"r\")\n",
        "except FileNotFoundError:\n",
        "    print(\"Error: File not found\")\n",
        "file.close()"
      ],
      "metadata": {
        "colab": {
          "base_uri": "https://localhost:8080/"
        },
        "id": "wWVQaecNs3Ji",
        "outputId": "8f6c6ab6-973c-4210-b457-415a202e70c0"
      },
      "execution_count": 17,
      "outputs": [
        {
          "output_type": "stream",
          "name": "stdout",
          "text": [
            "Error: File not found\n"
          ]
        }
      ]
    },
    {
      "cell_type": "code",
      "source": [
        "#9 How can you read a file line by line and store its content in a list in Python?\n",
        "\n",
        "file = open(\"example.txt\", \"r\")\n",
        "lines = file.readlines()\n",
        "file.close()\n",
        "lines_list = [line.strip() for line in lines]\n",
        "print(lines_list)"
      ],
      "metadata": {
        "colab": {
          "base_uri": "https://localhost:8080/"
        },
        "id": "0bJ9FVLCtAX6",
        "outputId": "1069d303-3d75-41e6-8e23-d724a905d2a8"
      },
      "execution_count": 24,
      "outputs": [
        {
          "output_type": "stream",
          "name": "stdout",
          "text": [
            "['Hello, world!']\n"
          ]
        }
      ]
    },
    {
      "cell_type": "code",
      "source": [
        "#10 How can you append data to an existing file in Python?\n",
        "\n",
        "file = open(\"example.txt\", \"a\")\n",
        "file.write(\"\\nAppended line\")\n",
        "file.close()"
      ],
      "metadata": {
        "id": "yatpT6ORtxnV"
      },
      "execution_count": 25,
      "outputs": []
    },
    {
      "cell_type": "code",
      "source": [
        "#11  Write a Python program that uses a try-except block to handle an error when attempting to access a dictionary key that doesn't exist?\n",
        "\n",
        "file = open(\"example.txt\", \"r\")\n",
        "try:\n",
        "    my_dict = {\"key\": \"value\"}\n",
        "    value = my_dict[\"non_existent_key\"]\n",
        "except KeyError:\n",
        "    print(\"Error: Key not found in dictionary\")\n",
        "file.close()"
      ],
      "metadata": {
        "colab": {
          "base_uri": "https://localhost:8080/"
        },
        "id": "THsDJzPVt_C_",
        "outputId": "05134cd6-9798-471e-e6ab-54835f0d20a7"
      },
      "execution_count": 26,
      "outputs": [
        {
          "output_type": "stream",
          "name": "stdout",
          "text": [
            "Error: Key not found in dictionary\n"
          ]
        }
      ]
    },
    {
      "cell_type": "code",
      "source": [
        "#12 Write a program that demonstrates using multiple except blocks to handle different types of exceptions?\n",
        "\n",
        "file = open(\"example.txt\", \"r\")\n",
        "try:\n",
        "    result = 10 / 0\n",
        "except ZeroDivisionError:\n",
        "    print(\"Error: Division by zero\")\n",
        "except TypeError:\n",
        "    print(\"Error: Type error\")\n",
        "file.close()"
      ],
      "metadata": {
        "colab": {
          "base_uri": "https://localhost:8080/"
        },
        "id": "0zZIDpwGuFFH",
        "outputId": "a74749f8-e546-42ae-9783-cd0785acefd5"
      },
      "execution_count": 27,
      "outputs": [
        {
          "output_type": "stream",
          "name": "stdout",
          "text": [
            "Error: Division by zero\n"
          ]
        }
      ]
    },
    {
      "cell_type": "code",
      "source": [
        "#13 How would you check if a file exists before attempting to read it in Python?\n",
        "\n",
        "import os\n",
        "\n",
        "try:\n",
        "    if not os.path.exists(\"example.txt\"):\n",
        "        raise FileNotFoundError(\"File not found\")\n",
        "    file = open(\"example.txt\", \"r\")\n",
        "except FileNotFoundError as e:\n",
        "    print(e)\n",
        "except Exception as e:\n",
        "    print(f\"An error occurred: {e}\")\n",
        "finally:\n",
        "    if 'file' in locals() and not file.closed:\n",
        "        file.close()"
      ],
      "metadata": {
        "id": "0r_9_3xruJWH"
      },
      "execution_count": 31,
      "outputs": []
    },
    {
      "cell_type": "code",
      "source": [
        "#14 Write a program that uses the logging module to log both informational and error messages?\n",
        "\n",
        "import logging\n",
        "\n",
        "logging.basicConfig(level=logging.INFO)\n",
        "\n",
        "logging.info(\"This is an info message\")\n",
        "logging.error(\"This is an error message\")"
      ],
      "metadata": {
        "colab": {
          "base_uri": "https://localhost:8080/"
        },
        "id": "bMSMWhQ8ucsY",
        "outputId": "34e1f171-fcc8-4859-fd92-da26566f75d3"
      },
      "execution_count": 35,
      "outputs": [
        {
          "output_type": "stream",
          "name": "stderr",
          "text": [
            "ERROR:root:This is an error message\n"
          ]
        }
      ]
    },
    {
      "cell_type": "code",
      "source": [
        "#15 Write a Python program that prints the content of a file and handles the case when the file is empty?\n",
        "\n",
        "file = open(\"example.txt\", \"r\")\n",
        "try:\n",
        "    content = file.read()\n",
        "    if not content:\n",
        "        raise ValueError(\"File is empty\")\n",
        "    print(content)\n",
        "except ValueError as e:\n",
        "    print(e)"
      ],
      "metadata": {
        "colab": {
          "base_uri": "https://localhost:8080/"
        },
        "id": "HS4fU33_u40M",
        "outputId": "411a85da-539d-4cf0-849e-5b8899f845ae"
      },
      "execution_count": 36,
      "outputs": [
        {
          "output_type": "stream",
          "name": "stdout",
          "text": [
            "Hello, world!\n",
            "Appended line\n"
          ]
        }
      ]
    },
    {
      "cell_type": "code",
      "source": [
        "#16 Demonstrate how to use memory profiling to check the memory usage of a small program?\n",
        "\n",
        "from memory_profiler import profile\n",
        "\n",
        "@profile\n",
        "def allocate_memory():\n",
        "    a = [i for i in range(1000000)]\n",
        "    b = [i ** 2 for i in range(1000000)]\n",
        "    return a, b\n",
        "\n",
        "if __name__ == \"__main__\":\n",
        "    allocate_memory()\n"
      ],
      "metadata": {
        "colab": {
          "base_uri": "https://localhost:8080/"
        },
        "id": "Ng5lW_7DvBYm",
        "outputId": "e5e776d0-649a-4dde-84bc-584974bedf51"
      },
      "execution_count": 68,
      "outputs": [
        {
          "output_type": "stream",
          "name": "stdout",
          "text": [
            "ERROR: Could not find file <ipython-input-68-fb36cb88a34e>\n",
            "NOTE: %mprun can only be used on functions defined in physical files, and not in the IPython environment.\n"
          ]
        }
      ]
    },
    {
      "cell_type": "code",
      "source": [
        "#17 Write a Python program to create and write a list of numbers to a file, one number per line?\n",
        "\n",
        "file = open(\"numbers.txt\", \"w\")\n",
        "numbers = [1, 2, 3, 4, 5]\n",
        "for number in numbers:\n",
        "    file.write(str(number) + \"\\n\")\n",
        "file.close()"
      ],
      "metadata": {
        "id": "ITnsWiZ0vw7k"
      },
      "execution_count": 61,
      "outputs": []
    },
    {
      "cell_type": "code",
      "source": [
        "file = open(\"numbers.txt\", \"r\")\n",
        "for line in file:\n",
        "    print(line)\n",
        "file.close()"
      ],
      "metadata": {
        "colab": {
          "base_uri": "https://localhost:8080/"
        },
        "id": "-0Iex2XZv3mW",
        "outputId": "e64f8c8b-c670-41b4-ecee-cf25511753c9"
      },
      "execution_count": 45,
      "outputs": [
        {
          "output_type": "stream",
          "name": "stdout",
          "text": [
            "1\n",
            "\n",
            "2\n",
            "\n",
            "3\n",
            "\n",
            "4\n",
            "\n",
            "5\n",
            "\n"
          ]
        }
      ]
    },
    {
      "cell_type": "code",
      "source": [
        "#18 How would you implement a basic logging setup that logs to a file with rotation after 1MB?\n",
        "\n",
        "import logging\n",
        "from logging.handlers import RotatingFileHandler\n",
        "\n",
        "handler = RotatingFileHandler('app.log', maxBytes=1_000_000, backupCount=3)\n",
        "handler.setFormatter(logging.Formatter('%(asctime)s - %(levelname)s - %(message)s'))\n",
        "\n",
        "logger = logging.getLogger('my_logger')\n",
        "logger.setLevel(logging.DEBUG)\n",
        "logger.addHandler(handler)\n",
        "\n",
        "logger.debug(\"Debug message\")\n",
        "logger.info(\"Informational message\")\n",
        "logger.warning(\"Warning message\")\n",
        "logger.error(\"Error message\")\n",
        "logger.critical(\"Critical message\")\n"
      ],
      "metadata": {
        "colab": {
          "base_uri": "https://localhost:8080/"
        },
        "id": "-gFlFAtEwNXS",
        "outputId": "8281f53b-0e6c-4dcf-b6c2-7ad8cda19f76"
      },
      "execution_count": 67,
      "outputs": [
        {
          "output_type": "stream",
          "name": "stderr",
          "text": [
            "DEBUG:my_logger:Debug message\n",
            "INFO:my_logger:Informational message\n",
            "WARNING:my_logger:Warning message\n",
            "ERROR:my_logger:Error message\n",
            "CRITICAL:my_logger:Critical message\n"
          ]
        }
      ]
    },
    {
      "cell_type": "code",
      "source": [
        "#19 Write a program that handles both IndexError and KeyError using a try-except block?\n",
        "\n",
        "file = open(\"example.txt\", \"r\")\n",
        "try:\n",
        "    my_list = [1, 2, 3]\n",
        "    value = my_list[3]\n",
        "except IndexError:\n",
        "    print(\"Error: Index out of range\")"
      ],
      "metadata": {
        "colab": {
          "base_uri": "https://localhost:8080/"
        },
        "id": "5gRpUtzHwUoJ",
        "outputId": "e1392625-3fbc-4604-bf7f-e2754b9c2b9f"
      },
      "execution_count": 47,
      "outputs": [
        {
          "output_type": "stream",
          "name": "stdout",
          "text": [
            "Error: Index out of range\n"
          ]
        }
      ]
    },
    {
      "cell_type": "code",
      "source": [
        "#20 How would you open a file and read its contents using a context manager in Python?\n",
        "\n",
        "with open(\"example.txt\", \"r\") as file:\n",
        "    content = file.read()\n",
        "    print(content)"
      ],
      "metadata": {
        "colab": {
          "base_uri": "https://localhost:8080/"
        },
        "id": "RF4UrMFUwZ8B",
        "outputId": "40cd0cbb-9ef7-4961-c677-6320996eeebd"
      },
      "execution_count": 48,
      "outputs": [
        {
          "output_type": "stream",
          "name": "stdout",
          "text": [
            "Hello, world!\n",
            "Appended line\n"
          ]
        }
      ]
    },
    {
      "cell_type": "code",
      "source": [
        "#21 Write a Python program that reads a file and prints the number of occurrences of a specific word?\n",
        "\n",
        "def count_word_in_file(file_path, target_word):\n",
        "    try:\n",
        "        with open(file_path, 'r') as file:\n",
        "            content = file.read().lower()\n",
        "        return content.split().count(target_word.lower())\n",
        "    except FileNotFoundError:\n",
        "        print(f\"Error: The file '{file_path}' was not found.\")\n",
        "        return 0\n",
        "\n",
        "file_path = 'sample.txt'\n",
        "target_word = 'python'\n",
        "count = count_word_in_file(file_path, target_word)\n",
        "print(f\"The word '{target_word}' appears {count} times in the file.\")\n",
        "\n"
      ],
      "metadata": {
        "colab": {
          "base_uri": "https://localhost:8080/"
        },
        "id": "A8yCeAyJwdlN",
        "outputId": "32f5164a-3106-4452-c140-50ad7eed4494"
      },
      "execution_count": 70,
      "outputs": [
        {
          "output_type": "stream",
          "name": "stdout",
          "text": [
            "Error: The file 'sample.txt' was not found.\n",
            "The word 'python' appears 0 times in the file.\n"
          ]
        }
      ]
    },
    {
      "cell_type": "code",
      "source": [
        "#22 How can you check if a file is empty before attempting to read its contents?\n",
        "\n",
        "import os\n",
        "\n",
        "file_path = 'example.txt'\n",
        "\n",
        "if os.path.getsize(file_path) == 0:\n",
        "    print(\"The file is empty.\")\n",
        "else:\n",
        "    with open(file_path, 'r') as file:\n",
        "        content = file.read()\n",
        "        print(\"File content:\", content)\n"
      ],
      "metadata": {
        "colab": {
          "base_uri": "https://localhost:8080/"
        },
        "id": "WoiRwrc1wtNZ",
        "outputId": "a2e8afbd-f5ba-4c5f-f7e7-69e736686f9f"
      },
      "execution_count": 65,
      "outputs": [
        {
          "output_type": "stream",
          "name": "stdout",
          "text": [
            "File content: Hello, world!\n",
            "Appended line\n"
          ]
        }
      ]
    },
    {
      "cell_type": "code",
      "source": [
        "#23 Write a Python program that writes to a log file when an error occurs during file handling?\n",
        "\n",
        "import logging\n",
        "\n",
        "logging.basicConfig(filename='error.log', level=logging.ERROR)\n",
        "\n",
        "try:\n",
        "    with open('non_existent_file.txt', 'r') as file:\n",
        "        content = file.read()\n",
        "except Exception as e:\n",
        "    logging.error(\"An error occurred: %s\", e)\n"
      ],
      "metadata": {
        "colab": {
          "base_uri": "https://localhost:8080/"
        },
        "id": "Yg3xCn5rxQ9U",
        "outputId": "2190aa66-a675-4241-afdf-68bfa3d407ae"
      },
      "execution_count": 64,
      "outputs": [
        {
          "output_type": "stream",
          "name": "stderr",
          "text": [
            "ERROR:root:An error occurred: [Errno 2] No such file or directory: 'non_existent_file.txt'\n"
          ]
        }
      ]
    }
  ]
}